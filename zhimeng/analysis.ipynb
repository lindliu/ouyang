{
 "cells": [
  {
   "cell_type": "code",
   "execution_count": 1,
   "metadata": {},
   "outputs": [],
   "source": [
    "# import pandas as pd\n",
    "\n",
    "# # df_ = pd.read_excel(\"Total.xlsx\", index_col=None)\n",
    "\n",
    "# df = pd.ExcelFile(\"Total.xlsx\")\n",
    "# print(df.sheet_names)\n",
    "# df1 = pd.read_excel(df, '1st')\n",
    "# df2 = pd.read_excel(df, '2nd')\n",
    "# df3 = pd.read_excel(df, '3rd')\n",
    "# df_ = pd.concat([df1,df2,df3],axis=0)\n",
    "\n",
    "# cluster = df_['Cluster'].str.split(' ', n=1, expand=True)\n",
    "# cluster = cluster.rename(columns={0:'cluster', 1:'kPa'})\n",
    "# features = df_.drop('Cluster', axis=1)\n",
    "\n",
    "# df_ = pd.concat([features, cluster], axis=1)\n",
    "# df_.reset_index(drop=True, inplace=True)\n",
    "# df_.to_csv('Total.csv', index=False)\n",
    "# print(df_)"
   ]
  },
  {
   "cell_type": "code",
   "execution_count": 1,
   "metadata": {},
   "outputs": [
    {
     "name": "stdout",
     "output_type": "stream",
     "text": [
      "['1kPa' '4kPa' '6kPa' '22kPa' '60kPa' '0.5kPa']\n"
     ]
    }
   ],
   "source": [
    "import matplotlib.pyplot as plt\n",
    "from sklearn.model_selection import train_test_split\n",
    "import pandas as pd\n",
    "import numpy as np\n",
    "# np.random.seed(42)\n",
    "\n",
    "df = pd.read_csv('Total.csv', index_col = None)\n",
    "columns_new = dict([(name, name.replace('.','__')) for name in df.columns])\n",
    "df.rename(columns=columns_new, inplace=True)\n",
    "\n",
    "\n",
    "print(df['kPa'].unique())\n",
    "kPa = '22kPa'\n",
    "df_ = df[df['kPa']==kPa]\n",
    "X = df_.drop([\"ID\", \"cluster\",\"kPa\"], axis=1) # Independent variables\n",
    "# X = X.iloc[:,feature_selected]\n",
    "y_ = df_.cluster # Dependent variable\n",
    "\n",
    "y = np.zeros(y_.shape)\n",
    "y[y_=='TIF'] = 1\n",
    "y = pd.DataFrame(y, columns=['cluster'], dtype=float)\n",
    "# y_.loc[y_=='CAF'] = 0\n",
    "# y_.loc[y_=='TIF'] = 1\n",
    "# y = y_.astype(float)\n",
    "\n",
    "\n",
    "X_columns_new = dict([(name, f'ind_{i}_'+name) for i,name in enumerate(X.columns)])\n",
    "X.rename(columns=X_columns_new, inplace=True)\n",
    "features = np.array(X.columns)\n",
    "\n",
    "# Split into train and test \n",
    "X_train, X_test, y_train, y_test = train_test_split(X, y, test_size=0.3, random_state=1)"
   ]
  },
  {
   "cell_type": "code",
   "execution_count": 2,
   "metadata": {},
   "outputs": [
    {
     "data": {
      "text/plain": [
       "(272, 149)"
      ]
     },
     "execution_count": 2,
     "metadata": {},
     "output_type": "execute_result"
    }
   ],
   "source": [
    "from sklearn.preprocessing import StandardScaler, MinMaxScaler\n",
    "scaler = MinMaxScaler()\n",
    "scaler.fit(X_train)\n",
    "X_train.iloc[:,:] = scaler.transform(X_train)\n",
    "X_test.iloc[:,:] = scaler.transform(X_test)\n",
    "\n",
    "X_train.shape"
   ]
  },
  {
   "cell_type": "code",
   "execution_count": 76,
   "metadata": {},
   "outputs": [],
   "source": [
    "### initialize selected features\n",
    "unique = np.arange(X_train.shape[1])  \n",
    "\n",
    "###1kPa LR not used\n",
    "# unique = np.array([104,   2,  63,  11,  10,  67,   1,  38,   7,  13, 105,  91, 148, 36, 112,   3,  19,  53, 147,  56,  87,  12, 132]) \n",
    "# unique = np.array([113,   1,   9, 105,   7, 106,  20,  86,  28,  57, 148, 141,  33, 43, 111,  87,  44,  91,  30, 100])## 4kPa\n",
    "# unique = np.array([  3,   1,  14, 105, 148,  90,  20, 107,  82,  43,  56,  33, 101, 34,  41,  28])## 6kPa\n",
    "# unique = np.array([ 11,   1,  43,   7,  98,  38,   2,  30,   4,  84,  50, 106,  87, 105,  33,  34,  19,  41,  28,  62, 131,  46, 104,  70, 132,  57, 67]) ##22kPa\n",
    "# array([ 11,   1,   7,  98,  38, 106,  84,  30,  43,  33,  19,  87,  34, 4])\n",
    "# unique = np.array([113,   9, 105,   1, 131,  20,  86,  33,  28,  43]) ## 4kPa"
   ]
  },
  {
   "cell_type": "code",
   "execution_count": 127,
   "metadata": {},
   "outputs": [
    {
     "name": "stderr",
     "output_type": "stream",
     "text": [
      "/home/dliu/miniconda3/envs/py38/lib/python3.8/site-packages/sklearn/svm/_base.py:1250: ConvergenceWarning: Liblinear failed to converge, increase the number of iterations.\n",
      "  warnings.warn(\n"
     ]
    },
    {
     "name": "stdout",
     "output_type": "stream",
     "text": [
      "{'C': 2.0, 'fit_intercept': False, 'max_iter': 100, 'penalty': 'l1', 'tol': 0.01}\n",
      "Logistic regression: \n",
      "              precision    recall  f1-score   support\n",
      "\n",
      "         0.0       0.84      0.83      0.83        64\n",
      "         1.0       0.80      0.81      0.80        53\n",
      "\n",
      "    accuracy                           0.82       117\n",
      "   macro avg       0.82      0.82      0.82       117\n",
      "weighted avg       0.82      0.82      0.82       117\n",
      "\n"
     ]
    },
    {
     "name": "stderr",
     "output_type": "stream",
     "text": [
      "The feature_perturbation option is now deprecated in favor of using the appropriate masker (maskers.Independent, or maskers.Impute)\n"
     ]
    },
    {
     "data": {
      "application/vnd.jupyter.widget-view+json": {
       "model_id": "8befd29f97dd4c4d9e4f72d5ded6017f",
       "version_major": 2,
       "version_minor": 0
      },
      "text/plain": [
       "Estimating transforms:   0%|          | 0/1000 [00:00<?, ?it/s]"
      ]
     },
     "metadata": {},
     "output_type": "display_data"
    },
    {
     "name": "stdout",
     "output_type": "stream",
     "text": [
      "{'subsample': 0.8, 'n_estimators': 1000, 'min_child_weight': 1, 'max_depth': 4, 'gamma': 0.5, 'colsample_bytree': 1.0}\n",
      "XGBoost: \n",
      "              precision    recall  f1-score   support\n",
      "\n",
      "         0.0       0.87      0.86      0.87        64\n",
      "         1.0       0.83      0.85      0.84        53\n",
      "\n",
      "    accuracy                           0.85       117\n",
      "   macro avg       0.85      0.85      0.85       117\n",
      "weighted avg       0.86      0.85      0.85       117\n",
      "\n",
      "{'bootstrap': False, 'max_depth': None, 'min_samples_leaf': 5, 'min_samples_split': 10, 'n_estimators': 500}\n",
      "Random Forest: \n",
      "              precision    recall  f1-score   support\n",
      "\n",
      "         0.0       0.86      0.89      0.88        64\n",
      "         1.0       0.86      0.83      0.85        53\n",
      "\n",
      "    accuracy                           0.86       117\n",
      "   macro avg       0.86      0.86      0.86       117\n",
      "weighted avg       0.86      0.86      0.86       117\n",
      "\n"
     ]
    }
   ],
   "source": [
    "from model import get_importance_index\n",
    "\n",
    "scoring = 'roc_auc'\n",
    "ranked_idx, importance_score, F1 = get_importance_index(X_train.iloc[:,unique], y_train, X_test.iloc[:,unique], y_test, scoring)"
   ]
  },
  {
   "cell_type": "code",
   "execution_count": 128,
   "metadata": {},
   "outputs": [],
   "source": [
    "# percent = importance_score/importance_score.sum(0)\n",
    "\n",
    "# percent.sort(axis=0)\n",
    "# # plt.plot(percent[::-1,2])\n",
    "# # print(np.cumsum(percent, axis=0))\n",
    "# plt.plot(np.cumsum(percent[::-1],axis=0))\n"
   ]
  },
  {
   "cell_type": "code",
   "execution_count": 129,
   "metadata": {},
   "outputs": [],
   "source": [
    "epoch = 5\n",
    "remove_group_num = np.array([50,32,15, 7,3,1,1,1,1,1,1])\n",
    "remove_order_num = np.array([10, 8, 5, 3,2,1,1,1,1,1,1])  #60,40,20,10,5,2,2,2,2,2,2\n",
    "assert X_train.shape[1]==149\n",
    "remove = 149-np.cumsum(remove_group_num+remove_order_num)\n",
    "\n",
    "ranked_idx = ranked_idx[:,F1>.8]\n",
    "ranked_idx_ = unique[ranked_idx.flatten()]\n",
    "# ranked_idx = ranked_idx[:int(ranked_idx.shape[0]*3/4)] ## remove low ranking features"
   ]
  },
  {
   "cell_type": "code",
   "execution_count": 130,
   "metadata": {},
   "outputs": [
    {
     "data": {
      "text/plain": [
       "(array([98,  1, 11, 38, 43,  2,  7, 50, 87, 30, 94]), (11,))"
      ]
     },
     "execution_count": 130,
     "metadata": {},
     "output_type": "execute_result"
    }
   ],
   "source": [
    "unique_rank = []\n",
    "for i in ranked_idx_.flatten():\n",
    "    if i not in unique_rank:\n",
    "        unique_rank.append(i)\n",
    "\n",
    "unique_rank = np.array(unique_rank)[:-remove_order_num[epoch]]\n",
    "unique_rank, unique_rank.shape\n",
    "# unique = unique[current_idx]"
   ]
  },
  {
   "cell_type": "code",
   "execution_count": 131,
   "metadata": {},
   "outputs": [
    {
     "data": {
      "image/png": "[encoded data removed]",
      "text/plain": [
       "<Figure size 1500x1500 with 2 Axes>"
      ]
     },
     "metadata": {},
     "output_type": "display_data"
    }
   ],
   "source": [
    "def plot_corr(df,size=10):\n",
    "    '''Plot a graphical correlation matrix for a dataframe.\n",
    "\n",
    "    Input:\n",
    "        df: pandas DataFrame\n",
    "        size: vertical and horizontal size of the plot'''\n",
    "    \n",
    "    %matplotlib inline\n",
    "    import matplotlib.pyplot as plt\n",
    "\n",
    "    # Compute the correlation matrix for the received dataframe\n",
    "    corr = df.corr()\n",
    "    \n",
    "    # Plot the correlation matrix\n",
    "    fig, ax = plt.subplots(figsize=(size, size))\n",
    "    cax = ax.matshow(corr, cmap='RdYlGn')\n",
    "    plt.xticks(range(len(corr.columns)), corr.columns, rotation=90);\n",
    "    plt.yticks(range(len(corr.columns)), corr.columns);\n",
    "    \n",
    "    # Add the colorbar legend\n",
    "    cbar = fig.colorbar(cax, ticks=[-1, 0, 1], aspect=40, shrink=.8)\n",
    "\n",
    "# plot_corr(selected)\n",
    "\n",
    "import scipy\n",
    "import scipy.cluster.hierarchy as sch\n",
    "\n",
    "selected = X.iloc[:, unique_rank]\n",
    "\n",
    "corr_values = selected.corr().values\n",
    "d = sch.distance.pdist(corr_values)   # vector of ('55' choose 2) pairwise distances\n",
    "L = sch.linkage(d, method='complete')\n",
    "ind = sch.fcluster(L, 0.5*d.max(), 'distance')\n",
    "columns = [selected.columns.tolist()[i] for i in list((np.argsort(ind)))]\n",
    "selected_sorted = selected.reindex(columns, axis=1)\n",
    "\n",
    "selected_columns_new = dict([(name, f'group{i}_'+name) for i,name in zip(np.sort(ind),selected_sorted.columns)])\n",
    "selected_sorted.rename(columns=selected_columns_new, inplace=True)\n",
    "\n",
    "plot_corr(selected_sorted, size=15)"
   ]
  },
  {
   "cell_type": "code",
   "execution_count": 132,
   "metadata": {},
   "outputs": [
    {
     "name": "stdout",
     "output_type": "stream",
     "text": [
      "[11  2  7]\n",
      "[30]\n",
      "[98 87 94]\n",
      "[ 1 38]\n",
      "[43]\n",
      "[50]\n"
     ]
    }
   ],
   "source": [
    "group_member = []\n",
    "for i in np.unique(ind):\n",
    "    group_member.append(unique_rank[ind==i])\n",
    "\n",
    "for i in group_member:\n",
    "    print(i)\n"
   ]
  },
  {
   "cell_type": "code",
   "execution_count": 133,
   "metadata": {},
   "outputs": [
    {
     "name": "stdout",
     "output_type": "stream",
     "text": [
      "1\n",
      "(5,)\n",
      "(11,)\n"
     ]
    }
   ],
   "source": [
    "### select percent(per) of current feature, spread in each group has num features\n",
    "num = remove_group_num[epoch]//np.unique(ind).shape[0]+1\n",
    "print(num)\n",
    "\n",
    "unique_ = []\n",
    "for member in group_member:\n",
    "    unique_.extend(list(member[:-num]))\n",
    "\n",
    "unique_ = np.array(unique_)[:remove[epoch]]\n",
    "print(unique_.shape)\n",
    "\n",
    "\n",
    "extra = []\n",
    "for i in unique_rank:\n",
    "    if i not in unique_:\n",
    "        extra.append(i)\n",
    "    if len(extra) == remove[epoch]-unique_.shape[0]:\n",
    "        break\n",
    "    \n",
    "unique_ = np.r_[unique_, extra]\n",
    "print(unique_.shape)"
   ]
  },
  {
   "cell_type": "code",
   "execution_count": 134,
   "metadata": {},
   "outputs": [],
   "source": [
    "unique = unique_"
   ]
  },
  {
   "cell_type": "code",
   "execution_count": null,
   "metadata": {},
   "outputs": [],
   "source": []
  },
  {
   "cell_type": "code",
   "execution_count": null,
   "metadata": {},
   "outputs": [],
   "source": [
    "selected_sorted.reset_index(drop=True, inplace=True)\n",
    "y.reset_index(drop=True, inplace=True)\n",
    "selected_y = pd.concat([selected_sorted,y], axis=1)\n",
    "\n",
    "\n",
    "## get ANOVA table as R like output\n",
    "import statsmodels.api as sm\n",
    "from statsmodels.formula.api import ols\n",
    "\n",
    "status_name = 'cluster'\n",
    "anova_list = list(selected_sorted.columns)\n",
    "    \n",
    "pvalue = {}\n",
    "pvalue_problem = {}\n",
    "for cov in anova_list:\n",
    "    # Ordinary Least Squares (OLS) model\n",
    "    model = ols(f'{status_name} ~ {cov}', data=selected_y).fit()\n",
    "    anova_table = sm.stats.anova_lm(model, typ=2)\n",
    "    _pvalue = anova_table['PR(>F)'][cov]\n",
    "    pvalue[cov] = _pvalue\n",
    "\n",
    "    if _pvalue>.05:\n",
    "        print(f'{cov}: {_pvalue}')\n",
    "        pvalue_problem[cov] = _pvalue\n",
    "        \n",
    "# print(pvalue_problem)"
   ]
  },
  {
   "cell_type": "code",
   "execution_count": null,
   "metadata": {},
   "outputs": [],
   "source": []
  },
  {
   "cell_type": "code",
   "execution_count": null,
   "metadata": {},
   "outputs": [],
   "source": []
  },
  {
   "cell_type": "code",
   "execution_count": null,
   "metadata": {},
   "outputs": [],
   "source": []
  },
  {
   "cell_type": "code",
   "execution_count": null,
   "metadata": {},
   "outputs": [],
   "source": []
  },
  {
   "cell_type": "code",
   "execution_count": null,
   "metadata": {},
   "outputs": [],
   "source": []
  },
  {
   "cell_type": "code",
   "execution_count": 59,
   "metadata": {},
   "outputs": [],
   "source": []
  },
  {
   "cell_type": "code",
   "execution_count": 2,
   "metadata": {},
   "outputs": [],
   "source": [
    "import matplotlib.pyplot as plt\n",
    "from sklearn.model_selection import train_test_split\n",
    "import pandas as pd\n",
    "import numpy as np\n",
    "\n",
    "\n",
    "\n",
    "import matplotlib.pyplot as plt\n",
    "from sklearn.model_selection import train_test_split\n",
    "import pandas as pd\n",
    "import numpy as np\n",
    "# np.random.seed(42)\n",
    "\n",
    "\n",
    "\n",
    "def plot_corr(df,size=10):\n",
    "    '''Plot a graphical correlation matrix for a dataframe.\n",
    "\n",
    "    Input:\n",
    "        df: pandas DataFrame\n",
    "        size: vertical and horizontal size of the plot'''\n",
    "    \n",
    "    # %matplotlib inline\n",
    "    import matplotlib.pyplot as plt\n",
    "\n",
    "    # Compute the correlation matrix for the received dataframe\n",
    "    corr = df.corr()\n",
    "    \n",
    "    # Plot the correlation matrix\n",
    "    fig, ax = plt.subplots(figsize=(size, size))\n",
    "    cax = ax.matshow(corr, cmap='RdYlGn')\n",
    "    plt.xticks(range(len(corr.columns)), corr.columns, rotation=90);\n",
    "    plt.yticks(range(len(corr.columns)), corr.columns);\n",
    "    \n",
    "    # Add the colorbar legend\n",
    "    cbar = fig.colorbar(cax, ticks=[-1, 0, 1], aspect=40, shrink=.8)\n",
    "\n",
    "# plot_corr(selected)\n",
    "\n",
    "import scipy.cluster.hierarchy as sch\n",
    "def feature_extraction(X_train, y_train, X_test, y_test, X):\n",
    "\n",
    "    assert X_train.shape[1]==149\n",
    "    remove_group_num = np.array([50,32,15, 7,3,1,1,1,1,1,1])\n",
    "    remove_order_num = np.array([10, 8, 5, 3,2,1,1,1,1,1,1])  #60,40,20,10,5,2,2,2,2,2,2\n",
    "    remove = 149-np.cumsum(remove_group_num+remove_order_num)\n",
    "\n",
    "\n",
    "    from model import get_importance_index\n",
    "    unique = np.arange(X_train.shape[1])  \n",
    "\n",
    "    F1_list, idx_list = [], []\n",
    "    for epoch in range(remove_order_num.shape[0]):\n",
    "\n",
    "        ################ feature importance ranking #################\n",
    "        scoring = 'roc_auc'\n",
    "        ranked_idx, importance_score, F1 = get_importance_index(X_train.iloc[:,unique], y_train, X_test.iloc[:,unique], y_test, scoring)\n",
    "        #############################################################\n",
    "\n",
    "\n",
    "        ############### remove features by importance ranking ##################\n",
    "        ranked_idx = ranked_idx[:,F1>.8]\n",
    "        ranked_idx_ = unique[ranked_idx.flatten()]\n",
    "\n",
    "        unique_rank = []\n",
    "        for i in ranked_idx_.flatten():\n",
    "            if i not in unique_rank:\n",
    "                unique_rank.append(i)\n",
    "\n",
    "        unique_rank = np.array(unique_rank)[:-remove_order_num[epoch]]\n",
    "        # unique_rank, unique_rank.shape\n",
    "        ########################################################################\n",
    "        F1_list.append(F1)\n",
    "        idx_list.append(unique_rank)\n",
    "\n",
    "        ############### group selected feature by correlation values ################\n",
    "        selected = X.iloc[:, unique_rank]\n",
    "\n",
    "        corr_values = selected.corr().values\n",
    "        d = sch.distance.pdist(corr_values)   # vector of ('55' choose 2) pairwise distances\n",
    "        L = sch.linkage(d, method='complete')\n",
    "        ind = sch.fcluster(L, 0.5*d.max(), 'distance')\n",
    "        columns = [selected.columns.tolist()[i] for i in list((np.argsort(ind)))]\n",
    "        selected_sorted = selected.reindex(columns, axis=1)\n",
    "\n",
    "        selected_columns_new = dict([(name, f'group{i}_'+name) for i,name in zip(np.sort(ind),selected_sorted.columns)])\n",
    "        selected_sorted.rename(columns=selected_columns_new, inplace=True)\n",
    "        # plot_corr(selected_sorted, size=15)\n",
    "        ############################################################################\n",
    "\n",
    "\n",
    "        ########################### remove features by groups(avoid selected features highly correlated) ###############\n",
    "        group_member = []\n",
    "        for i in np.unique(ind):\n",
    "            group_member.append(unique_rank[ind==i])\n",
    "        # for i in group_member:\n",
    "        #     print(i)\n",
    "\n",
    "        ### select percent(per) of current feature, spread in each group has num features\n",
    "        num = remove_group_num[epoch]//np.unique(ind).shape[0]+1\n",
    "        # print(num)\n",
    "\n",
    "        unique_ = []\n",
    "        for member in group_member:\n",
    "            unique_.extend(list(member[:-num]))\n",
    "        unique_ = np.array(unique_)[:remove[epoch]]\n",
    "        # print(unique_.shape)\n",
    "\n",
    "        extra = []\n",
    "        for i in unique_rank:\n",
    "            if i not in unique_:\n",
    "                extra.append(i)\n",
    "            if len(extra) == remove[epoch]-unique_.shape[0]:\n",
    "                break\n",
    "            \n",
    "        unique_ = np.r_[unique_, extra]\n",
    "        # print(unique_.shape)\n",
    "        ################################################################################################################\n",
    "\n",
    "        unique = unique_\n",
    "\n",
    "    return F1_list, idx_list\n",
    "\n",
    "\n",
    "def get_data(df_):\n",
    "    # kPa = '22kPa'\n",
    "    # df_ = df[df['kPa']==kPa]\n",
    "    X = df_.drop([\"ID\", \"cluster\",\"kPa\"], axis=1) # Independent variables\n",
    "    # X = X.iloc[:,feature_selected]\n",
    "    y_ = df_.cluster # Dependent variable\n",
    "\n",
    "    y = np.zeros(y_.shape)\n",
    "    y[y_=='TIF'] = 1\n",
    "    y = pd.DataFrame(y, columns=['cluster'], dtype=float)\n",
    "    # y_.loc[y_=='CAF'] = 0\n",
    "    # y_.loc[y_=='TIF'] = 1\n",
    "    # y = y_.astype(float)\n",
    "\n",
    "\n",
    "    X_columns_new = dict([(name, f'ind_{i}_'+name) for i,name in enumerate(X.columns)])\n",
    "    X.rename(columns=X_columns_new, inplace=True)\n",
    "    features = np.array(X.columns)\n",
    "\n",
    "    # Split into train and test \n",
    "    X_train, X_test, y_train, y_test = train_test_split(X, y, test_size=0.3, random_state=1)\n",
    "    from sklearn.preprocessing import StandardScaler, MinMaxScaler\n",
    "    scaler = MinMaxScaler()\n",
    "    scaler.fit(X_train)\n",
    "    X_train.iloc[:,:] = scaler.transform(X_train)\n",
    "    X_test.iloc[:,:] = scaler.transform(X_test)\n",
    "\n",
    "    X_train.shape\n",
    "\n",
    "    return X_train, y_train, X_test, y_test, X, features\n",
    "\n",
    "\n",
    "df = pd.read_csv('Total.csv', index_col = None)\n",
    "columns_new = dict([(name, name.replace('.','__')) for name in df.columns])\n",
    "df.rename(columns=columns_new, inplace=True)\n",
    "\n",
    "kPa_list = df['kPa'].unique()\n",
    "kPa_list"
   ]
  },
  {
   "cell_type": "code",
   "execution_count": 2,
   "metadata": {},
   "outputs": [
    {
     "name": "stdout",
     "output_type": "stream",
     "text": [
      "{'C': 0.5, 'fit_intercept': False, 'max_iter': 50, 'penalty': 'l2', 'tol': 0.01}\n"
     ]
    },
    {
     "name": "stderr",
     "output_type": "stream",
     "text": [
      "The feature_perturbation option is now deprecated in favor of using the appropriate masker (maskers.Independent, or maskers.Impute)\n"
     ]
    },
    {
     "data": {
      "application/vnd.jupyter.widget-view+json": {
       "model_id": "ec988957578b42b0b3a7deb39e2b5db2",
       "version_major": 2,
       "version_minor": 0
      },
      "text/plain": [
       "Estimating transforms:   0%|          | 0/1000 [00:00<?, ?it/s]"
      ]
     },
     "metadata": {},
     "output_type": "display_data"
    },
    {
     "name": "stdout",
     "output_type": "stream",
     "text": [
      "{'subsample': 0.8, 'n_estimators': 1000, 'min_child_weight': 1, 'max_depth': 4, 'gamma': 0.5, 'colsample_bytree': 1.0}\n",
      "{'bootstrap': False, 'max_depth': 10, 'min_samples_leaf': 5, 'min_samples_split': 5, 'n_estimators': 200}\n",
      "LR, XGBoost, RF:  [0.66676418 0.84608641 0.82051282]\n",
      "{'C': 2.0, 'fit_intercept': True, 'max_iter': 50, 'penalty': 'l2', 'tol': 1e-05}\n"
     ]
    },
    {
     "name": "stderr",
     "output_type": "stream",
     "text": [
      "The feature_perturbation option is now deprecated in favor of using the appropriate masker (maskers.Independent, or maskers.Impute)\n"
     ]
    },
    {
     "data": {
      "application/vnd.jupyter.widget-view+json": {
       "model_id": "56aef3a47d394b0eb6e1e99b93673255",
       "version_major": 2,
       "version_minor": 0
      },
      "text/plain": [
       "Estimating transforms:   0%|          | 0/1000 [00:00<?, ?it/s]"
      ]
     },
     "metadata": {},
     "output_type": "display_data"
    },
    {
     "name": "stdout",
     "output_type": "stream",
     "text": [
      "{'subsample': 0.8, 'n_estimators': 1000, 'min_child_weight': 1, 'max_depth': 4, 'gamma': 0.5, 'colsample_bytree': 1.0}\n",
      "{'bootstrap': False, 'max_depth': None, 'min_samples_leaf': 5, 'min_samples_split': 10, 'n_estimators': 500}\n",
      "LR, XGBoost, RF:  [0.63151098 0.86318792 0.87179487]\n"
     ]
    },
    {
     "name": "stderr",
     "output_type": "stream",
     "text": [
      "/home/dliu/miniconda3/envs/py38/lib/python3.8/site-packages/sklearn/svm/_base.py:1250: ConvergenceWarning: Liblinear failed to converge, increase the number of iterations.\n",
      "  warnings.warn(\n",
      "/home/dliu/miniconda3/envs/py38/lib/python3.8/site-packages/sklearn/svm/_base.py:1250: ConvergenceWarning: Liblinear failed to converge, increase the number of iterations.\n",
      "  warnings.warn(\n"
     ]
    },
    {
     "name": "stdout",
     "output_type": "stream",
     "text": [
      "{'C': 2.0, 'fit_intercept': False, 'max_iter': 50, 'penalty': 'l2', 'tol': 1e-05}\n"
     ]
    },
    {
     "name": "stderr",
     "output_type": "stream",
     "text": [
      "The feature_perturbation option is now deprecated in favor of using the appropriate masker (maskers.Independent, or maskers.Impute)\n"
     ]
    },
    {
     "data": {
      "application/vnd.jupyter.widget-view+json": {
       "model_id": "bac6040fd346474ab171dff740809262",
       "version_major": 2,
       "version_minor": 0
      },
      "text/plain": [
       "Estimating transforms:   0%|          | 0/1000 [00:00<?, ?it/s]"
      ]
     },
     "metadata": {},
     "output_type": "display_data"
    },
    {
     "name": "stdout",
     "output_type": "stream",
     "text": [
      "{'subsample': 0.8, 'n_estimators': 1000, 'min_child_weight': 1, 'max_depth': 4, 'gamma': 0.5, 'colsample_bytree': 1.0}\n",
      "{'bootstrap': False, 'max_depth': None, 'min_samples_leaf': 5, 'min_samples_split': 5, 'n_estimators': 500}\n",
      "LR, XGBoost, RF:  [0.57277446 0.84608641 0.86318792]\n",
      "{'C': 2.0, 'fit_intercept': False, 'max_iter': 50, 'penalty': 'l1', 'tol': 1e-05}\n"
     ]
    },
    {
     "name": "stderr",
     "output_type": "stream",
     "text": [
      "The feature_perturbation option is now deprecated in favor of using the appropriate masker (maskers.Independent, or maskers.Impute)\n"
     ]
    },
    {
     "data": {
      "application/vnd.jupyter.widget-view+json": {
       "model_id": "71e9a866fdc44a6e91ba322151677e51",
       "version_major": 2,
       "version_minor": 0
      },
      "text/plain": [
       "Estimating transforms:   0%|          | 0/1000 [00:00<?, ?it/s]"
      ]
     },
     "metadata": {},
     "output_type": "display_data"
    },
    {
     "name": "stdout",
     "output_type": "stream",
     "text": [
      "{'subsample': 0.8, 'n_estimators': 1000, 'min_child_weight': 1, 'max_depth': 4, 'gamma': 0.5, 'colsample_bytree': 1.0}\n",
      "{'bootstrap': False, 'max_depth': 10, 'min_samples_leaf': 5, 'min_samples_split': 5, 'n_estimators': 200}\n",
      "LR, XGBoost, RF:  [0.57189984 0.84608641 0.85476456]\n"
     ]
    },
    {
     "name": "stderr",
     "output_type": "stream",
     "text": [
      "/home/dliu/miniconda3/envs/py38/lib/python3.8/site-packages/sklearn/svm/_base.py:1250: ConvergenceWarning: Liblinear failed to converge, increase the number of iterations.\n",
      "  warnings.warn(\n"
     ]
    },
    {
     "name": "stdout",
     "output_type": "stream",
     "text": [
      "{'C': 0.1, 'fit_intercept': False, 'max_iter': 50, 'penalty': 'l2', 'tol': 1e-05}\n"
     ]
    },
    {
     "name": "stderr",
     "output_type": "stream",
     "text": [
      "/home/dliu/miniconda3/envs/py38/lib/python3.8/site-packages/sklearn/svm/_base.py:1250: ConvergenceWarning: Liblinear failed to converge, increase the number of iterations.\n",
      "  warnings.warn(\n",
      "The feature_perturbation option is now deprecated in favor of using the appropriate masker (maskers.Independent, or maskers.Impute)\n"
     ]
    },
    {
     "data": {
      "application/vnd.jupyter.widget-view+json": {
       "model_id": "fddc34ca7eef48399f45ec092647d561",
       "version_major": 2,
       "version_minor": 0
      },
      "text/plain": [
       "Estimating transforms:   0%|          | 0/1000 [00:00<?, ?it/s]"
      ]
     },
     "metadata": {},
     "output_type": "display_data"
    },
    {
     "name": "stdout",
     "output_type": "stream",
     "text": [
      "{'subsample': 0.8, 'n_estimators': 1000, 'min_child_weight': 1, 'max_depth': 4, 'gamma': 0.5, 'colsample_bytree': 1.0}\n",
      "{'bootstrap': False, 'max_depth': None, 'min_samples_leaf': 5, 'min_samples_split': 5, 'n_estimators': 200}\n",
      "LR, XGBoost, RF:  [0.54714107 0.84608641 0.83744071]\n",
      "{'C': 0.1, 'fit_intercept': False, 'max_iter': 50, 'penalty': 'l2', 'tol': 1e-05}\n"
     ]
    },
    {
     "name": "stderr",
     "output_type": "stream",
     "text": [
      "The feature_perturbation option is now deprecated in favor of using the appropriate masker (maskers.Independent, or maskers.Impute)\n"
     ]
    },
    {
     "data": {
      "application/vnd.jupyter.widget-view+json": {
       "model_id": "37a3fb68c36f4d1393fb1126d5a0dd87",
       "version_major": 2,
       "version_minor": 0
      },
      "text/plain": [
       "Estimating transforms:   0%|          | 0/1000 [00:00<?, ?it/s]"
      ]
     },
     "metadata": {},
     "output_type": "display_data"
    },
    {
     "name": "stdout",
     "output_type": "stream",
     "text": [
      "{'subsample': 0.8, 'n_estimators': 1000, 'min_child_weight': 1, 'max_depth': 4, 'gamma': 0.5, 'colsample_bytree': 1.0}\n",
      "{'bootstrap': False, 'max_depth': 70, 'min_samples_leaf': 5, 'min_samples_split': 10, 'n_estimators': 200}\n",
      "LR, XGBoost, RF:  [0.53846154 0.86328783 0.84608641]\n"
     ]
    },
    {
     "name": "stderr",
     "output_type": "stream",
     "text": [
      "/home/dliu/miniconda3/envs/py38/lib/python3.8/site-packages/sklearn/svm/_base.py:1250: ConvergenceWarning: Liblinear failed to converge, increase the number of iterations.\n",
      "  warnings.warn(\n"
     ]
    },
    {
     "name": "stdout",
     "output_type": "stream",
     "text": [
      "{'C': 0.1, 'fit_intercept': False, 'max_iter': 50, 'penalty': 'l2', 'tol': 0.01}\n"
     ]
    },
    {
     "name": "stderr",
     "output_type": "stream",
     "text": [
      "The feature_perturbation option is now deprecated in favor of using the appropriate masker (maskers.Independent, or maskers.Impute)\n"
     ]
    },
    {
     "data": {
      "application/vnd.jupyter.widget-view+json": {
       "model_id": "61634ddd7ca848e1bc36e7aa1ba993dd",
       "version_major": 2,
       "version_minor": 0
      },
      "text/plain": [
       "Estimating transforms:   0%|          | 0/1000 [00:00<?, ?it/s]"
      ]
     },
     "metadata": {},
     "output_type": "display_data"
    },
    {
     "name": "stdout",
     "output_type": "stream",
     "text": [
      "{'subsample': 0.8, 'n_estimators': 1000, 'min_child_weight': 1, 'max_depth': 4, 'gamma': 0.5, 'colsample_bytree': 1.0}\n",
      "{'bootstrap': False, 'max_depth': 70, 'min_samples_leaf': 5, 'min_samples_split': 5, 'n_estimators': 500}\n",
      "LR, XGBoost, RF:  [0.54621062 0.85476456 0.8289849 ]\n"
     ]
    },
    {
     "name": "stderr",
     "output_type": "stream",
     "text": [
      "/home/dliu/miniconda3/envs/py38/lib/python3.8/site-packages/sklearn/svm/_base.py:1250: ConvergenceWarning: Liblinear failed to converge, increase the number of iterations.\n",
      "  warnings.warn(\n",
      "/home/dliu/miniconda3/envs/py38/lib/python3.8/site-packages/sklearn/svm/_base.py:1250: ConvergenceWarning: Liblinear failed to converge, increase the number of iterations.\n",
      "  warnings.warn(\n"
     ]
    },
    {
     "name": "stdout",
     "output_type": "stream",
     "text": [
      "{'C': 0.1, 'fit_intercept': True, 'max_iter': 50, 'penalty': 'l2', 'tol': 1e-05}\n"
     ]
    },
    {
     "name": "stderr",
     "output_type": "stream",
     "text": [
      "The feature_perturbation option is now deprecated in favor of using the appropriate masker (maskers.Independent, or maskers.Impute)\n"
     ]
    },
    {
     "data": {
      "application/vnd.jupyter.widget-view+json": {
       "model_id": "0a616e0aa675478fb43056424db5ec24",
       "version_major": 2,
       "version_minor": 0
      },
      "text/plain": [
       "Estimating transforms:   0%|          | 0/1000 [00:00<?, ?it/s]"
      ]
     },
     "metadata": {},
     "output_type": "display_data"
    },
    {
     "name": "stdout",
     "output_type": "stream",
     "text": [
      "{'subsample': 0.8, 'n_estimators': 1000, 'min_child_weight': 1, 'max_depth': 4, 'gamma': 0.5, 'colsample_bytree': 1.0}\n",
      "{'bootstrap': False, 'max_depth': 70, 'min_samples_leaf': 5, 'min_samples_split': 10, 'n_estimators': 200}\n",
      "LR, XGBoost, RF:  [0.52157745 0.8203292  0.8289849 ]\n",
      "{'C': 0.1, 'fit_intercept': False, 'max_iter': 50, 'penalty': 'l2', 'tol': 1e-05}\n"
     ]
    },
    {
     "name": "stderr",
     "output_type": "stream",
     "text": [
      "The feature_perturbation option is now deprecated in favor of using the appropriate masker (maskers.Independent, or maskers.Impute)\n"
     ]
    },
    {
     "data": {
      "application/vnd.jupyter.widget-view+json": {
       "model_id": "c24096b0c87c4e70ab124fce2fab3303",
       "version_major": 2,
       "version_minor": 0
      },
      "text/plain": [
       "Estimating transforms:   0%|          | 0/1000 [00:00<?, ?it/s]"
      ]
     },
     "metadata": {},
     "output_type": "display_data"
    },
    {
     "name": "stdout",
     "output_type": "stream",
     "text": [
      "{'subsample': 0.8, 'n_estimators': 1000, 'min_child_weight': 1, 'max_depth': 4, 'gamma': 0.5, 'colsample_bytree': 1.0}\n",
      "{'bootstrap': False, 'max_depth': 70, 'min_samples_leaf': 5, 'min_samples_split': 10, 'n_estimators': 200}\n",
      "LR, XGBoost, RF:  [0.52991453 0.84608641 0.8461988 ]\n"
     ]
    },
    {
     "name": "stderr",
     "output_type": "stream",
     "text": [
      "/home/dliu/miniconda3/envs/py38/lib/python3.8/site-packages/sklearn/svm/_base.py:1250: ConvergenceWarning: Liblinear failed to converge, increase the number of iterations.\n",
      "  warnings.warn(\n"
     ]
    },
    {
     "name": "stdout",
     "output_type": "stream",
     "text": [
      "{'C': 0.1, 'fit_intercept': False, 'max_iter': 50, 'penalty': 'l2', 'tol': 0.01}\n"
     ]
    },
    {
     "name": "stderr",
     "output_type": "stream",
     "text": [
      "The feature_perturbation option is now deprecated in favor of using the appropriate masker (maskers.Independent, or maskers.Impute)\n"
     ]
    },
    {
     "data": {
      "application/vnd.jupyter.widget-view+json": {
       "model_id": "87e54346d0e040219797a0e0e61e5439",
       "version_major": 2,
       "version_minor": 0
      },
      "text/plain": [
       "Estimating transforms:   0%|          | 0/1000 [00:00<?, ?it/s]"
      ]
     },
     "metadata": {},
     "output_type": "display_data"
    },
    {
     "name": "stdout",
     "output_type": "stream",
     "text": [
      "{'subsample': 0.8, 'n_estimators': 1000, 'min_child_weight': 1, 'max_depth': 4, 'gamma': 0.5, 'colsample_bytree': 1.0}\n",
      "{'bootstrap': False, 'max_depth': 10, 'min_samples_leaf': 5, 'min_samples_split': 5, 'n_estimators': 200}\n",
      "LR, XGBoost, RF:  [0.54654513 0.85470085 0.8461988 ]\n",
      "{'C': 0.5, 'fit_intercept': False, 'max_iter': 50, 'penalty': 'l2', 'tol': 0.01}\n"
     ]
    },
    {
     "name": "stderr",
     "output_type": "stream",
     "text": [
      "The feature_perturbation option is now deprecated in favor of using the appropriate masker (maskers.Independent, or maskers.Impute)\n"
     ]
    },
    {
     "data": {
      "application/vnd.jupyter.widget-view+json": {
       "model_id": "2b77df2511304a27b7a1636e0541a91a",
       "version_major": 2,
       "version_minor": 0
      },
      "text/plain": [
       "Estimating transforms:   0%|          | 0/1000 [00:00<?, ?it/s]"
      ]
     },
     "metadata": {},
     "output_type": "display_data"
    },
    {
     "name": "stdout",
     "output_type": "stream",
     "text": [
      "{'subsample': 0.8, 'n_estimators': 1000, 'min_child_weight': 1, 'max_depth': 4, 'gamma': 0.5, 'colsample_bytree': 1.0}\n",
      "{'bootstrap': False, 'max_depth': 70, 'min_samples_leaf': 5, 'min_samples_split': 10, 'n_estimators': 200}\n",
      "LR, XGBoost, RF:  [0.36697014 0.87166372 0.83760684]\n",
      "{'C': 2.0, 'fit_intercept': False, 'max_iter': 100, 'penalty': 'l1', 'tol': 0.01}\n"
     ]
    },
    {
     "name": "stderr",
     "output_type": "stream",
     "text": [
      "The feature_perturbation option is now deprecated in favor of using the appropriate masker (maskers.Independent, or maskers.Impute)\n"
     ]
    },
    {
     "data": {
      "application/vnd.jupyter.widget-view+json": {
       "model_id": "68972e1e7dc747a89aac5bc1ac25b43a",
       "version_major": 2,
       "version_minor": 0
      },
      "text/plain": [
       "Estimating transforms:   0%|          | 0/1000 [00:00<?, ?it/s]"
      ]
     },
     "metadata": {},
     "output_type": "display_data"
    },
    {
     "name": "stdout",
     "output_type": "stream",
     "text": [
      "{'subsample': 0.8, 'n_estimators': 1000, 'min_child_weight': 1, 'max_depth': 4, 'gamma': 0.5, 'colsample_bytree': 1.0}\n",
      "{'bootstrap': False, 'max_depth': 70, 'min_samples_leaf': 5, 'min_samples_split': 5, 'n_estimators': 200}\n",
      "LR, XGBoost, RF:  [0.78447852 0.84988648 0.82230513]\n",
      "{'C': 2.0, 'fit_intercept': False, 'max_iter': 100, 'penalty': 'l1', 'tol': 0.01}\n"
     ]
    },
    {
     "name": "stderr",
     "output_type": "stream",
     "text": [
      "The feature_perturbation option is now deprecated in favor of using the appropriate masker (maskers.Independent, or maskers.Impute)\n"
     ]
    },
    {
     "data": {
      "application/vnd.jupyter.widget-view+json": {
       "model_id": "3245bf60611643be821ea72e58eb3e56",
       "version_major": 2,
       "version_minor": 0
      },
      "text/plain": [
       "Estimating transforms:   0%|          | 0/1000 [00:00<?, ?it/s]"
      ]
     },
     "metadata": {},
     "output_type": "display_data"
    },
    {
     "name": "stdout",
     "output_type": "stream",
     "text": [
      "{'subsample': 0.8, 'n_estimators': 1000, 'min_child_weight': 1, 'max_depth': 4, 'gamma': 0.5, 'colsample_bytree': 1.0}\n",
      "{'bootstrap': False, 'max_depth': 10, 'min_samples_leaf': 5, 'min_samples_split': 5, 'n_estimators': 500}\n",
      "LR, XGBoost, RF:  [0.77534578 0.86895171 0.84070152]\n",
      "{'C': 2.0, 'fit_intercept': True, 'max_iter': 500, 'penalty': 'l1', 'tol': 0.01}\n"
     ]
    },
    {
     "name": "stderr",
     "output_type": "stream",
     "text": [
      "The feature_perturbation option is now deprecated in favor of using the appropriate masker (maskers.Independent, or maskers.Impute)\n"
     ]
    },
    {
     "data": {
      "application/vnd.jupyter.widget-view+json": {
       "model_id": "d13e5c02612c43f0b831c1099bda95d3",
       "version_major": 2,
       "version_minor": 0
      },
      "text/plain": [
       "Estimating transforms:   0%|          | 0/1000 [00:00<?, ?it/s]"
      ]
     },
     "metadata": {},
     "output_type": "display_data"
    },
    {
     "name": "stdout",
     "output_type": "stream",
     "text": [
      "{'subsample': 0.8, 'n_estimators': 1000, 'min_child_weight': 1, 'max_depth': 4, 'gamma': 0.5, 'colsample_bytree': 1.0}\n",
      "{'bootstrap': False, 'max_depth': 70, 'min_samples_leaf': 5, 'min_samples_split': 10, 'n_estimators': 200}\n",
      "LR, XGBoost, RF:  [0.79406697 0.87818351 0.83150934]\n",
      "{'C': 2.0, 'fit_intercept': True, 'max_iter': 50, 'penalty': 'l1', 'tol': 1e-05}\n"
     ]
    },
    {
     "name": "stderr",
     "output_type": "stream",
     "text": [
      "The feature_perturbation option is now deprecated in favor of using the appropriate masker (maskers.Independent, or maskers.Impute)\n"
     ]
    },
    {
     "data": {
      "application/vnd.jupyter.widget-view+json": {
       "model_id": "be968bb011de4ebfab0a4637be9d82a1",
       "version_major": 2,
       "version_minor": 0
      },
      "text/plain": [
       "Estimating transforms:   0%|          | 0/1000 [00:00<?, ?it/s]"
      ]
     },
     "metadata": {},
     "output_type": "display_data"
    },
    {
     "name": "stdout",
     "output_type": "stream",
     "text": [
      "{'subsample': 0.8, 'n_estimators': 1000, 'min_child_weight': 1, 'max_depth': 4, 'gamma': 0.5, 'colsample_bytree': 1.0}\n",
      "{'bootstrap': False, 'max_depth': None, 'min_samples_leaf': 5, 'min_samples_split': 10, 'n_estimators': 500}\n",
      "LR, XGBoost, RF:  [0.74699652 0.85944251 0.85906906]\n",
      "{'C': 2.0, 'fit_intercept': True, 'max_iter': 50, 'penalty': 'l1', 'tol': 0.01}\n"
     ]
    },
    {
     "name": "stderr",
     "output_type": "stream",
     "text": [
      "/home/dliu/miniconda3/envs/py38/lib/python3.8/site-packages/sklearn/svm/_base.py:1250: ConvergenceWarning: Liblinear failed to converge, increase the number of iterations.\n",
      "  warnings.warn(\n",
      "The feature_perturbation option is now deprecated in favor of using the appropriate masker (maskers.Independent, or maskers.Impute)\n"
     ]
    },
    {
     "data": {
      "application/vnd.jupyter.widget-view+json": {
       "model_id": "d68074818e8f40368cab3fcb61e76f2e",
       "version_major": 2,
       "version_minor": 0
      },
      "text/plain": [
       "Estimating transforms:   0%|          | 0/1000 [00:00<?, ?it/s]"
      ]
     },
     "metadata": {},
     "output_type": "display_data"
    },
    {
     "name": "stdout",
     "output_type": "stream",
     "text": [
      "{'subsample': 0.8, 'n_estimators': 1000, 'min_child_weight': 1, 'max_depth': 4, 'gamma': 0.5, 'colsample_bytree': 1.0}\n",
      "{'bootstrap': False, 'max_depth': 10, 'min_samples_leaf': 5, 'min_samples_split': 5, 'n_estimators': 200}\n",
      "LR, XGBoost, RF:  [0.73650825 0.88707497 0.89630097]\n"
     ]
    },
    {
     "name": "stderr",
     "output_type": "stream",
     "text": [
      "/home/dliu/miniconda3/envs/py38/lib/python3.8/site-packages/sklearn/svm/_base.py:1250: ConvergenceWarning: Liblinear failed to converge, increase the number of iterations.\n",
      "  warnings.warn(\n",
      "/home/dliu/miniconda3/envs/py38/lib/python3.8/site-packages/sklearn/svm/_base.py:1250: ConvergenceWarning: Liblinear failed to converge, increase the number of iterations.\n",
      "  warnings.warn(\n",
      "/home/dliu/miniconda3/envs/py38/lib/python3.8/site-packages/sklearn/svm/_base.py:1250: ConvergenceWarning: Liblinear failed to converge, increase the number of iterations.\n",
      "  warnings.warn(\n"
     ]
    },
    {
     "name": "stdout",
     "output_type": "stream",
     "text": [
      "{'C': 2.0, 'fit_intercept': True, 'max_iter': 100, 'penalty': 'l1', 'tol': 0.01}\n"
     ]
    },
    {
     "name": "stderr",
     "output_type": "stream",
     "text": [
      "The feature_perturbation option is now deprecated in favor of using the appropriate masker (maskers.Independent, or maskers.Impute)\n"
     ]
    },
    {
     "data": {
      "application/vnd.jupyter.widget-view+json": {
       "model_id": "6732e066179c46999ba35870d8264741",
       "version_major": 2,
       "version_minor": 0
      },
      "text/plain": [
       "Estimating transforms:   0%|          | 0/1000 [00:00<?, ?it/s]"
      ]
     },
     "metadata": {},
     "output_type": "display_data"
    },
    {
     "name": "stdout",
     "output_type": "stream",
     "text": [
      "{'subsample': 0.8, 'n_estimators': 1000, 'min_child_weight': 1, 'max_depth': 4, 'gamma': 0.5, 'colsample_bytree': 1.0}\n",
      "{'bootstrap': False, 'max_depth': None, 'min_samples_leaf': 5, 'min_samples_split': 5, 'n_estimators': 500}\n",
      "LR, XGBoost, RF:  [0.73650825 0.92494324 0.89692451]\n",
      "{'C': 2.0, 'fit_intercept': True, 'max_iter': 50, 'penalty': 'l1', 'tol': 1e-05}\n"
     ]
    },
    {
     "name": "stderr",
     "output_type": "stream",
     "text": [
      "/home/dliu/miniconda3/envs/py38/lib/python3.8/site-packages/sklearn/svm/_base.py:1250: ConvergenceWarning: Liblinear failed to converge, increase the number of iterations.\n",
      "  warnings.warn(\n",
      "The feature_perturbation option is now deprecated in favor of using the appropriate masker (maskers.Independent, or maskers.Impute)\n"
     ]
    },
    {
     "data": {
      "application/vnd.jupyter.widget-view+json": {
       "model_id": "7f0008fd77514ee0b42329896b4a3deb",
       "version_major": 2,
       "version_minor": 0
      },
      "text/plain": [
       "Estimating transforms:   0%|          | 0/1000 [00:00<?, ?it/s]"
      ]
     },
     "metadata": {},
     "output_type": "display_data"
    },
    {
     "name": "stdout",
     "output_type": "stream",
     "text": [
      "{'subsample': 0.8, 'n_estimators': 1000, 'min_child_weight': 1, 'max_depth': 4, 'gamma': 0.5, 'colsample_bytree': 1.0}\n",
      "{'bootstrap': False, 'max_depth': 10, 'min_samples_leaf': 5, 'min_samples_split': 5, 'n_estimators': 500}\n",
      "LR, XGBoost, RF:  [0.73650825 0.92494324 0.89665064]\n"
     ]
    },
    {
     "name": "stderr",
     "output_type": "stream",
     "text": [
      "/home/dliu/miniconda3/envs/py38/lib/python3.8/site-packages/sklearn/svm/_base.py:1250: ConvergenceWarning: Liblinear failed to converge, increase the number of iterations.\n",
      "  warnings.warn(\n"
     ]
    },
    {
     "name": "stdout",
     "output_type": "stream",
     "text": [
      "{'C': 2.0, 'fit_intercept': True, 'max_iter': 50, 'penalty': 'l1', 'tol': 0.001}\n"
     ]
    },
    {
     "name": "stderr",
     "output_type": "stream",
     "text": [
      "The feature_perturbation option is now deprecated in favor of using the appropriate masker (maskers.Independent, or maskers.Impute)\n"
     ]
    },
    {
     "data": {
      "application/vnd.jupyter.widget-view+json": {
       "model_id": "9548b33cc0d84d9cad3bd2f292ade679",
       "version_major": 2,
       "version_minor": 0
      },
      "text/plain": [
       "Estimating transforms:   0%|          | 0/1000 [00:00<?, ?it/s]"
      ]
     },
     "metadata": {},
     "output_type": "display_data"
    },
    {
     "name": "stdout",
     "output_type": "stream",
     "text": [
      "{'subsample': 0.8, 'n_estimators': 1000, 'min_child_weight': 1, 'max_depth': 4, 'gamma': 0.5, 'colsample_bytree': 1.0}\n",
      "{'bootstrap': False, 'max_depth': 10, 'min_samples_leaf': 5, 'min_samples_split': 5, 'n_estimators': 200}\n",
      "LR, XGBoost, RF:  [0.76432038 0.92471664 0.91544143]\n",
      "{'C': 2.0, 'fit_intercept': True, 'max_iter': 50, 'penalty': 'l1', 'tol': 0.01}\n"
     ]
    },
    {
     "name": "stderr",
     "output_type": "stream",
     "text": [
      "The feature_perturbation option is now deprecated in favor of using the appropriate masker (maskers.Independent, or maskers.Impute)\n"
     ]
    },
    {
     "data": {
      "application/vnd.jupyter.widget-view+json": {
       "model_id": "4d272250b33c420e99fa516a6e2d2a17",
       "version_major": 2,
       "version_minor": 0
      },
      "text/plain": [
       "Estimating transforms:   0%|          | 0/1000 [00:00<?, ?it/s]"
      ]
     },
     "metadata": {},
     "output_type": "display_data"
    },
    {
     "name": "stdout",
     "output_type": "stream",
     "text": [
      "{'subsample': 0.8, 'n_estimators': 1000, 'min_child_weight': 1, 'max_depth': 4, 'gamma': 0.5, 'colsample_bytree': 1.0}\n",
      "{'bootstrap': False, 'max_depth': None, 'min_samples_leaf': 5, 'min_samples_split': 10, 'n_estimators': 200}\n",
      "LR, XGBoost, RF:  [0.68004573 0.89630097 0.90617905]\n",
      "{'C': 2.0, 'fit_intercept': True, 'max_iter': 50, 'penalty': 'l1', 'tol': 1e-05}\n"
     ]
    },
    {
     "name": "stderr",
     "output_type": "stream",
     "text": [
      "The feature_perturbation option is now deprecated in favor of using the appropriate masker (maskers.Independent, or maskers.Impute)\n"
     ]
    },
    {
     "data": {
      "application/vnd.jupyter.widget-view+json": {
       "model_id": "dedbbb48482542d1b88db3ccd9745685",
       "version_major": 2,
       "version_minor": 0
      },
      "text/plain": [
       "Estimating transforms:   0%|          | 0/1000 [00:00<?, ?it/s]"
      ]
     },
     "metadata": {},
     "output_type": "display_data"
    },
    {
     "name": "stdout",
     "output_type": "stream",
     "text": [
      "{'subsample': 0.8, 'n_estimators': 1000, 'min_child_weight': 1, 'max_depth': 4, 'gamma': 0.5, 'colsample_bytree': 1.0}\n",
      "{'bootstrap': False, 'max_depth': None, 'min_samples_leaf': 5, 'min_samples_split': 10, 'n_estimators': 200}\n",
      "LR, XGBoost, RF:  [0.71386091 0.85971458 0.84120502]\n",
      "{'C': 2.0, 'fit_intercept': True, 'max_iter': 100, 'penalty': 'l1', 'tol': 0.01}\n"
     ]
    },
    {
     "name": "stderr",
     "output_type": "stream",
     "text": [
      "The feature_perturbation option is now deprecated in favor of using the appropriate masker (maskers.Independent, or maskers.Impute)\n"
     ]
    },
    {
     "data": {
      "application/vnd.jupyter.widget-view+json": {
       "model_id": "27b3d7017fd642bc9c109de70f059917",
       "version_major": 2,
       "version_minor": 0
      },
      "text/plain": [
       "Estimating transforms:   0%|          | 0/1000 [00:00<?, ?it/s]"
      ]
     },
     "metadata": {},
     "output_type": "display_data"
    },
    {
     "name": "stdout",
     "output_type": "stream",
     "text": [
      "{'subsample': 0.8, 'n_estimators': 1000, 'min_child_weight': 1, 'max_depth': 4, 'gamma': 0.5, 'colsample_bytree': 1.0}\n",
      "{'bootstrap': False, 'max_depth': 10, 'min_samples_leaf': 5, 'min_samples_split': 10, 'n_estimators': 200}\n",
      "LR, XGBoost, RF:  [0.71535524 0.87818351 0.86915888]\n"
     ]
    },
    {
     "name": "stderr",
     "output_type": "stream",
     "text": [
      "/home/dliu/miniconda3/envs/py38/lib/python3.8/site-packages/sklearn/svm/_base.py:1250: ConvergenceWarning: Liblinear failed to converge, increase the number of iterations.\n",
      "  warnings.warn(\n",
      "/home/dliu/miniconda3/envs/py38/lib/python3.8/site-packages/sklearn/svm/_base.py:1250: ConvergenceWarning: Liblinear failed to converge, increase the number of iterations.\n",
      "  warnings.warn(\n",
      "/home/dliu/miniconda3/envs/py38/lib/python3.8/site-packages/sklearn/svm/_base.py:1250: ConvergenceWarning: Liblinear failed to converge, increase the number of iterations.\n",
      "  warnings.warn(\n",
      "/home/dliu/miniconda3/envs/py38/lib/python3.8/site-packages/sklearn/svm/_base.py:1250: ConvergenceWarning: Liblinear failed to converge, increase the number of iterations.\n",
      "  warnings.warn(\n",
      "/home/dliu/miniconda3/envs/py38/lib/python3.8/site-packages/sklearn/svm/_base.py:1250: ConvergenceWarning: Liblinear failed to converge, increase the number of iterations.\n",
      "  warnings.warn(\n"
     ]
    },
    {
     "name": "stdout",
     "output_type": "stream",
     "text": [
      "{'C': 2.0, 'fit_intercept': True, 'max_iter': 50, 'penalty': 'l1', 'tol': 0.001}\n"
     ]
    },
    {
     "name": "stderr",
     "output_type": "stream",
     "text": [
      "The feature_perturbation option is now deprecated in favor of using the appropriate masker (maskers.Independent, or maskers.Impute)\n"
     ]
    },
    {
     "data": {
      "application/vnd.jupyter.widget-view+json": {
       "model_id": "a42a30d2c5a54d71a1a47845f597cfda",
       "version_major": 2,
       "version_minor": 0
      },
      "text/plain": [
       "Estimating transforms:   0%|          | 0/1000 [00:00<?, ?it/s]"
      ]
     },
     "metadata": {},
     "output_type": "display_data"
    },
    {
     "name": "stdout",
     "output_type": "stream",
     "text": [
      "{'subsample': 0.8, 'n_estimators': 1000, 'min_child_weight': 1, 'max_depth': 4, 'gamma': 0.5, 'colsample_bytree': 1.0}\n",
      "{'bootstrap': False, 'max_depth': 10, 'min_samples_leaf': 5, 'min_samples_split': 5, 'n_estimators': 500}\n",
      "LR, XGBoost, RF:  [0.92917025 0.92027904 0.8848475 ]\n"
     ]
    },
    {
     "name": "stderr",
     "output_type": "stream",
     "text": [
      "/home/dliu/miniconda3/envs/py38/lib/python3.8/site-packages/sklearn/svm/_base.py:1250: ConvergenceWarning: Liblinear failed to converge, increase the number of iterations.\n",
      "  warnings.warn(\n",
      "/home/dliu/miniconda3/envs/py38/lib/python3.8/site-packages/sklearn/svm/_base.py:1250: ConvergenceWarning: Liblinear failed to converge, increase the number of iterations.\n",
      "  warnings.warn(\n",
      "/home/dliu/miniconda3/envs/py38/lib/python3.8/site-packages/sklearn/svm/_base.py:1250: ConvergenceWarning: Liblinear failed to converge, increase the number of iterations.\n",
      "  warnings.warn(\n",
      "The feature_perturbation option is now deprecated in favor of using the appropriate masker (maskers.Independent, or maskers.Impute)\n"
     ]
    },
    {
     "name": "stdout",
     "output_type": "stream",
     "text": [
      "{'C': 2.0, 'fit_intercept': True, 'max_iter': 100, 'penalty': 'l1', 'tol': 0.001}\n"
     ]
    },
    {
     "data": {
      "application/vnd.jupyter.widget-view+json": {
       "model_id": "b0824afc265c4af58ddb2ff456688bb3",
       "version_major": 2,
       "version_minor": 0
      },
      "text/plain": [
       "Estimating transforms:   0%|          | 0/1000 [00:00<?, ?it/s]"
      ]
     },
     "metadata": {},
     "output_type": "display_data"
    },
    {
     "name": "stdout",
     "output_type": "stream",
     "text": [
      "{'subsample': 0.8, 'n_estimators': 1000, 'min_child_weight': 1, 'max_depth': 4, 'gamma': 0.5, 'colsample_bytree': 1.0}\n",
      "{'bootstrap': False, 'max_depth': None, 'min_samples_leaf': 5, 'min_samples_split': 10, 'n_estimators': 200}\n",
      "LR, XGBoost, RF:  [0.92917025 0.92917025 0.8848475 ]\n"
     ]
    },
    {
     "name": "stderr",
     "output_type": "stream",
     "text": [
      "/home/dliu/miniconda3/envs/py38/lib/python3.8/site-packages/sklearn/svm/_base.py:1250: ConvergenceWarning: Liblinear failed to converge, increase the number of iterations.\n",
      "  warnings.warn(\n",
      "/home/dliu/miniconda3/envs/py38/lib/python3.8/site-packages/sklearn/svm/_base.py:1250: ConvergenceWarning: Liblinear failed to converge, increase the number of iterations.\n",
      "  warnings.warn(\n",
      "/home/dliu/miniconda3/envs/py38/lib/python3.8/site-packages/sklearn/svm/_base.py:1250: ConvergenceWarning: Liblinear failed to converge, increase the number of iterations.\n",
      "  warnings.warn(\n",
      "/home/dliu/miniconda3/envs/py38/lib/python3.8/site-packages/sklearn/svm/_base.py:1250: ConvergenceWarning: Liblinear failed to converge, increase the number of iterations.\n",
      "  warnings.warn(\n",
      "/home/dliu/miniconda3/envs/py38/lib/python3.8/site-packages/sklearn/svm/_base.py:1250: ConvergenceWarning: Liblinear failed to converge, increase the number of iterations.\n",
      "  warnings.warn(\n"
     ]
    },
    {
     "name": "stdout",
     "output_type": "stream",
     "text": [
      "{'C': 2.0, 'fit_intercept': True, 'max_iter': 50, 'penalty': 'l1', 'tol': 1e-05}\n"
     ]
    },
    {
     "name": "stderr",
     "output_type": "stream",
     "text": [
      "The feature_perturbation option is now deprecated in favor of using the appropriate masker (maskers.Independent, or maskers.Impute)\n"
     ]
    },
    {
     "data": {
      "application/vnd.jupyter.widget-view+json": {
       "model_id": "f4f684e1d2cb4354af261fe0152ad74a",
       "version_major": 2,
       "version_minor": 0
      },
      "text/plain": [
       "Estimating transforms:   0%|          | 0/1000 [00:00<?, ?it/s]"
      ]
     },
     "metadata": {},
     "output_type": "display_data"
    },
    {
     "name": "stdout",
     "output_type": "stream",
     "text": [
      "{'subsample': 0.8, 'n_estimators': 1000, 'min_child_weight': 1, 'max_depth': 4, 'gamma': 0.5, 'colsample_bytree': 1.0}\n",
      "{'bootstrap': False, 'max_depth': 10, 'min_samples_leaf': 5, 'min_samples_split': 5, 'n_estimators': 200}\n",
      "LR, XGBoost, RF:  [0.92917025 0.92027904 0.87604794]\n",
      "{'C': 2.0, 'fit_intercept': True, 'max_iter': 50, 'penalty': 'l1', 'tol': 1e-05}\n"
     ]
    },
    {
     "name": "stderr",
     "output_type": "stream",
     "text": [
      "/home/dliu/miniconda3/envs/py38/lib/python3.8/site-packages/sklearn/svm/_base.py:1250: ConvergenceWarning: Liblinear failed to converge, increase the number of iterations.\n",
      "  warnings.warn(\n",
      "The feature_perturbation option is now deprecated in favor of using the appropriate masker (maskers.Independent, or maskers.Impute)\n"
     ]
    },
    {
     "data": {
      "application/vnd.jupyter.widget-view+json": {
       "model_id": "8c53c3e61f804ba9b13c4d0c867b35ed",
       "version_major": 2,
       "version_minor": 0
      },
      "text/plain": [
       "Estimating transforms:   0%|          | 0/1000 [00:00<?, ?it/s]"
      ]
     },
     "metadata": {},
     "output_type": "display_data"
    },
    {
     "name": "stdout",
     "output_type": "stream",
     "text": [
      "{'subsample': 0.8, 'n_estimators': 1000, 'min_child_weight': 1, 'max_depth': 4, 'gamma': 0.5, 'colsample_bytree': 1.0}\n",
      "{'bootstrap': False, 'max_depth': 70, 'min_samples_leaf': 5, 'min_samples_split': 10, 'n_estimators': 500}\n",
      "LR, XGBoost, RF:  [0.83183206 0.83170019 0.82273109]\n"
     ]
    },
    {
     "name": "stderr",
     "output_type": "stream",
     "text": [
      "/home/dliu/miniconda3/envs/py38/lib/python3.8/site-packages/sklearn/svm/_base.py:1250: ConvergenceWarning: Liblinear failed to converge, increase the number of iterations.\n",
      "  warnings.warn(\n"
     ]
    },
    {
     "name": "stdout",
     "output_type": "stream",
     "text": [
      "{'C': 2.0, 'fit_intercept': True, 'max_iter': 500, 'penalty': 'l1', 'tol': 0.01}\n"
     ]
    },
    {
     "name": "stderr",
     "output_type": "stream",
     "text": [
      "The feature_perturbation option is now deprecated in favor of using the appropriate masker (maskers.Independent, or maskers.Impute)\n"
     ]
    },
    {
     "data": {
      "application/vnd.jupyter.widget-view+json": {
       "model_id": "994df3e1dbdc48f79e3d044ec946a91f",
       "version_major": 2,
       "version_minor": 0
      },
      "text/plain": [
       "Estimating transforms:   0%|          | 0/1000 [00:00<?, ?it/s]"
      ]
     },
     "metadata": {},
     "output_type": "display_data"
    },
    {
     "name": "stdout",
     "output_type": "stream",
     "text": [
      "{'subsample': 0.8, 'n_estimators': 1000, 'min_child_weight': 1, 'max_depth': 4, 'gamma': 0.5, 'colsample_bytree': 1.0}\n",
      "{'bootstrap': False, 'max_depth': 10, 'min_samples_leaf': 5, 'min_samples_split': 10, 'n_estimators': 500}\n",
      "LR, XGBoost, RF:  [0.83183206 0.84063306 0.84063306]\n"
     ]
    },
    {
     "name": "stderr",
     "output_type": "stream",
     "text": [
      "/home/dliu/miniconda3/envs/py38/lib/python3.8/site-packages/sklearn/svm/_base.py:1250: ConvergenceWarning: Liblinear failed to converge, increase the number of iterations.\n",
      "  warnings.warn(\n"
     ]
    },
    {
     "name": "stdout",
     "output_type": "stream",
     "text": [
      "{'C': 2.0, 'fit_intercept': True, 'max_iter': 250, 'penalty': 'l1', 'tol': 0.001}\n"
     ]
    },
    {
     "name": "stderr",
     "output_type": "stream",
     "text": [
      "The feature_perturbation option is now deprecated in favor of using the appropriate masker (maskers.Independent, or maskers.Impute)\n"
     ]
    },
    {
     "data": {
      "application/vnd.jupyter.widget-view+json": {
       "model_id": "f37fe15213be471cb96753b471d057a4",
       "version_major": 2,
       "version_minor": 0
      },
      "text/plain": [
       "Estimating transforms:   0%|          | 0/1000 [00:00<?, ?it/s]"
      ]
     },
     "metadata": {},
     "output_type": "display_data"
    },
    {
     "name": "stdout",
     "output_type": "stream",
     "text": [
      "{'subsample': 0.8, 'n_estimators': 1000, 'min_child_weight': 1, 'max_depth': 4, 'gamma': 0.5, 'colsample_bytree': 1.0}\n",
      "{'bootstrap': False, 'max_depth': 70, 'min_samples_leaf': 5, 'min_samples_split': 10, 'n_estimators': 200}\n",
      "LR, XGBoost, RF:  [0.80527924 0.83146225 0.82292562]\n",
      "{'C': 2.0, 'fit_intercept': True, 'max_iter': 50, 'penalty': 'l1', 'tol': 1e-05}\n"
     ]
    },
    {
     "name": "stderr",
     "output_type": "stream",
     "text": [
      "The feature_perturbation option is now deprecated in favor of using the appropriate masker (maskers.Independent, or maskers.Impute)\n"
     ]
    },
    {
     "data": {
      "application/vnd.jupyter.widget-view+json": {
       "model_id": "5805a13996564e3ea591b59b45f21086",
       "version_major": 2,
       "version_minor": 0
      },
      "text/plain": [
       "Estimating transforms:   0%|          | 0/1000 [00:00<?, ?it/s]"
      ]
     },
     "metadata": {},
     "output_type": "display_data"
    },
    {
     "name": "stdout",
     "output_type": "stream",
     "text": [
      "{'subsample': 0.8, 'n_estimators': 1000, 'min_child_weight': 1, 'max_depth': 4, 'gamma': 0.5, 'colsample_bytree': 1.0}\n",
      "{'bootstrap': False, 'max_depth': None, 'min_samples_leaf': 5, 'min_samples_split': 5, 'n_estimators': 200}\n",
      "LR, XGBoost, RF:  [0.83183206 0.82273109 0.83183206]\n",
      "{'C': 2.0, 'fit_intercept': True, 'max_iter': 50, 'penalty': 'l1', 'tol': 0.001}\n"
     ]
    },
    {
     "name": "stderr",
     "output_type": "stream",
     "text": [
      "The feature_perturbation option is now deprecated in favor of using the appropriate masker (maskers.Independent, or maskers.Impute)\n"
     ]
    },
    {
     "data": {
      "application/vnd.jupyter.widget-view+json": {
       "model_id": "0955578c95d547e28e4c4223006c5d80",
       "version_major": 2,
       "version_minor": 0
      },
      "text/plain": [
       "Estimating transforms:   0%|          | 0/1000 [00:00<?, ?it/s]"
      ]
     },
     "metadata": {},
     "output_type": "display_data"
    },
    {
     "name": "stdout",
     "output_type": "stream",
     "text": [
      "{'subsample': 0.8, 'n_estimators': 1000, 'min_child_weight': 1, 'max_depth': 4, 'gamma': 0.5, 'colsample_bytree': 1.0}\n",
      "{'bootstrap': False, 'max_depth': 10, 'min_samples_leaf': 5, 'min_samples_split': 10, 'n_estimators': 500}\n",
      "LR, XGBoost, RF:  [0.83183206 0.84889441 0.84941596]\n",
      "{'C': 2.0, 'fit_intercept': True, 'max_iter': 50, 'penalty': 'l1', 'tol': 0.01}\n"
     ]
    },
    {
     "name": "stderr",
     "output_type": "stream",
     "text": [
      "The feature_perturbation option is now deprecated in favor of using the appropriate masker (maskers.Independent, or maskers.Impute)\n"
     ]
    },
    {
     "data": {
      "application/vnd.jupyter.widget-view+json": {
       "model_id": "1e1d6bc7c3f74b9da6648e661d4b68dc",
       "version_major": 2,
       "version_minor": 0
      },
      "text/plain": [
       "Estimating transforms:   0%|          | 0/1000 [00:00<?, ?it/s]"
      ]
     },
     "metadata": {},
     "output_type": "display_data"
    },
    {
     "name": "stdout",
     "output_type": "stream",
     "text": [
      "{'subsample': 0.8, 'n_estimators': 1000, 'min_child_weight': 1, 'max_depth': 4, 'gamma': 0.5, 'colsample_bytree': 1.0}\n",
      "{'bootstrap': False, 'max_depth': None, 'min_samples_leaf': 5, 'min_samples_split': 10, 'n_estimators': 200}\n",
      "LR, XGBoost, RF:  [0.81407194 0.82273109 0.81398442]\n",
      "{'C': 2.0, 'fit_intercept': True, 'max_iter': 500, 'penalty': 'l1', 'tol': 0.01}\n"
     ]
    },
    {
     "name": "stderr",
     "output_type": "stream",
     "text": [
      "The feature_perturbation option is now deprecated in favor of using the appropriate masker (maskers.Independent, or maskers.Impute)\n"
     ]
    },
    {
     "data": {
      "application/vnd.jupyter.widget-view+json": {
       "model_id": "69e0c0fefb5b4e50a0f7187a73746fae",
       "version_major": 2,
       "version_minor": 0
      },
      "text/plain": [
       "Estimating transforms:   0%|          | 0/1000 [00:00<?, ?it/s]"
      ]
     },
     "metadata": {},
     "output_type": "display_data"
    },
    {
     "name": "stdout",
     "output_type": "stream",
     "text": [
      "{'subsample': 0.8, 'n_estimators': 1000, 'min_child_weight': 1, 'max_depth': 4, 'gamma': 0.5, 'colsample_bytree': 1.0}\n",
      "{'bootstrap': True, 'max_depth': 10, 'min_samples_leaf': 5, 'min_samples_split': 5, 'n_estimators': 500}\n",
      "LR, XGBoost, RF:  [0.80527924 0.86667154 0.84045798]\n",
      "{'C': 1.0, 'fit_intercept': True, 'max_iter': 50, 'penalty': 'l1', 'tol': 0.01}\n"
     ]
    },
    {
     "name": "stderr",
     "output_type": "stream",
     "text": [
      "The feature_perturbation option is now deprecated in favor of using the appropriate masker (maskers.Independent, or maskers.Impute)\n"
     ]
    },
    {
     "data": {
      "application/vnd.jupyter.widget-view+json": {
       "model_id": "ba68b2d6927e4eb6a00707796d0716ca",
       "version_major": 2,
       "version_minor": 0
      },
      "text/plain": [
       "Estimating transforms:   0%|          | 0/1000 [00:00<?, ?it/s]"
      ]
     },
     "metadata": {},
     "output_type": "display_data"
    },
    {
     "name": "stdout",
     "output_type": "stream",
     "text": [
      "{'subsample': 0.8, 'n_estimators': 1000, 'min_child_weight': 1, 'max_depth': 4, 'gamma': 0.5, 'colsample_bytree': 1.0}\n",
      "{'bootstrap': False, 'max_depth': None, 'min_samples_leaf': 5, 'min_samples_split': 5, 'n_estimators': 500}\n",
      "LR, XGBoost, RF:  [0.78757735 0.85818487 0.82273109]\n",
      "{'C': 2.0, 'fit_intercept': True, 'max_iter': 100, 'penalty': 'l1', 'tol': 0.01}\n"
     ]
    },
    {
     "name": "stderr",
     "output_type": "stream",
     "text": [
      "The feature_perturbation option is now deprecated in favor of using the appropriate masker (maskers.Independent, or maskers.Impute)\n"
     ]
    },
    {
     "data": {
      "application/vnd.jupyter.widget-view+json": {
       "model_id": "f475c3090c0444feb510538e96cd1639",
       "version_major": 2,
       "version_minor": 0
      },
      "text/plain": [
       "Estimating transforms:   0%|          | 0/1000 [00:00<?, ?it/s]"
      ]
     },
     "metadata": {},
     "output_type": "display_data"
    },
    {
     "name": "stdout",
     "output_type": "stream",
     "text": [
      "{'subsample': 0.8, 'n_estimators': 600, 'min_child_weight': 5, 'max_depth': 4, 'gamma': 2, 'colsample_bytree': 1.0}\n",
      "{'bootstrap': False, 'max_depth': None, 'min_samples_leaf': 5, 'min_samples_split': 10, 'n_estimators': 200}\n",
      "LR, XGBoost, RF:  [0.86354811 0.8720207  0.87103135]\n",
      "{'C': 2.0, 'fit_intercept': False, 'max_iter': 500, 'penalty': 'l1', 'tol': 0.01}\n"
     ]
    },
    {
     "name": "stderr",
     "output_type": "stream",
     "text": [
      "The feature_perturbation option is now deprecated in favor of using the appropriate masker (maskers.Independent, or maskers.Impute)\n"
     ]
    },
    {
     "data": {
      "application/vnd.jupyter.widget-view+json": {
       "model_id": "2921f91e31994e8198542bb77d41ec71",
       "version_major": 2,
       "version_minor": 0
      },
      "text/plain": [
       "Estimating transforms:   0%|          | 0/1000 [00:00<?, ?it/s]"
      ]
     },
     "metadata": {},
     "output_type": "display_data"
    },
    {
     "name": "stdout",
     "output_type": "stream",
     "text": [
      "{'subsample': 0.8, 'n_estimators': 1000, 'min_child_weight': 1, 'max_depth': 4, 'gamma': 0.5, 'colsample_bytree': 1.0}\n",
      "{'bootstrap': False, 'max_depth': 70, 'min_samples_leaf': 5, 'min_samples_split': 5, 'n_estimators': 200}\n",
      "LR, XGBoost, RF:  [0.86352859 0.85480778 0.86220691]\n",
      "{'C': 2.0, 'fit_intercept': False, 'max_iter': 50, 'penalty': 'l1', 'tol': 1e-05}\n"
     ]
    },
    {
     "name": "stderr",
     "output_type": "stream",
     "text": [
      "The feature_perturbation option is now deprecated in favor of using the appropriate masker (maskers.Independent, or maskers.Impute)\n"
     ]
    },
    {
     "data": {
      "application/vnd.jupyter.widget-view+json": {
       "model_id": "10a44b4a75fd4777a48d38bc8215003c",
       "version_major": 2,
       "version_minor": 0
      },
      "text/plain": [
       "Estimating transforms:   0%|          | 0/1000 [00:00<?, ?it/s]"
      ]
     },
     "metadata": {},
     "output_type": "display_data"
    },
    {
     "name": "stdout",
     "output_type": "stream",
     "text": [
      "{'subsample': 0.8, 'n_estimators': 1000, 'min_child_weight': 1, 'max_depth': 4, 'gamma': 0.5, 'colsample_bytree': 1.0}\n",
      "{'bootstrap': True, 'max_depth': 70, 'min_samples_leaf': 5, 'min_samples_split': 10, 'n_estimators': 200}\n",
      "LR, XGBoost, RF:  [0.86352859 0.86342875 0.86220691]\n",
      "{'C': 2.0, 'fit_intercept': True, 'max_iter': 250, 'penalty': 'l1', 'tol': 0.01}\n"
     ]
    },
    {
     "name": "stderr",
     "output_type": "stream",
     "text": [
      "The feature_perturbation option is now deprecated in favor of using the appropriate masker (maskers.Independent, or maskers.Impute)\n"
     ]
    },
    {
     "data": {
      "application/vnd.jupyter.widget-view+json": {
       "model_id": "1580bf04b1914ddfb14b8a5de554650e",
       "version_major": 2,
       "version_minor": 0
      },
      "text/plain": [
       "Estimating transforms:   0%|          | 0/1000 [00:00<?, ?it/s]"
      ]
     },
     "metadata": {},
     "output_type": "display_data"
    },
    {
     "name": "stdout",
     "output_type": "stream",
     "text": [
      "{'subsample': 0.8, 'n_estimators': 1000, 'min_child_weight': 1, 'max_depth': 4, 'gamma': 0.5, 'colsample_bytree': 1.0}\n",
      "{'bootstrap': True, 'max_depth': None, 'min_samples_leaf': 5, 'min_samples_split': 5, 'n_estimators': 200}\n",
      "LR, XGBoost, RF:  [0.80382137 0.88058751 0.83710135]\n"
     ]
    },
    {
     "name": "stderr",
     "output_type": "stream",
     "text": [
      "/home/dliu/miniconda3/envs/py38/lib/python3.8/site-packages/sklearn/svm/_base.py:1250: ConvergenceWarning: Liblinear failed to converge, increase the number of iterations.\n",
      "  warnings.warn(\n"
     ]
    },
    {
     "name": "stdout",
     "output_type": "stream",
     "text": [
      "{'C': 2.0, 'fit_intercept': False, 'max_iter': 50, 'penalty': 'l1', 'tol': 0.01}\n"
     ]
    },
    {
     "name": "stderr",
     "output_type": "stream",
     "text": [
      "The feature_perturbation option is now deprecated in favor of using the appropriate masker (maskers.Independent, or maskers.Impute)\n"
     ]
    },
    {
     "data": {
      "application/vnd.jupyter.widget-view+json": {
       "model_id": "cbef49f91e2c4bb19a20226e3efa0bc8",
       "version_major": 2,
       "version_minor": 0
      },
      "text/plain": [
       "Estimating transforms:   0%|          | 0/1000 [00:00<?, ?it/s]"
      ]
     },
     "metadata": {},
     "output_type": "display_data"
    },
    {
     "name": "stdout",
     "output_type": "stream",
     "text": [
      "{'subsample': 0.8, 'n_estimators': 1000, 'min_child_weight': 1, 'max_depth': 4, 'gamma': 0.5, 'colsample_bytree': 1.0}\n",
      "{'bootstrap': True, 'max_depth': None, 'min_samples_leaf': 5, 'min_samples_split': 10, 'n_estimators': 200}\n",
      "LR, XGBoost, RF:  [0.82943514 0.88058751 0.86263845]\n",
      "{'C': 2.0, 'fit_intercept': True, 'max_iter': 50, 'penalty': 'l1', 'tol': 0.01}\n"
     ]
    },
    {
     "name": "stderr",
     "output_type": "stream",
     "text": [
      "The feature_perturbation option is now deprecated in favor of using the appropriate masker (maskers.Independent, or maskers.Impute)\n"
     ]
    },
    {
     "data": {
      "application/vnd.jupyter.widget-view+json": {
       "model_id": "84407641ed6c47fa90b60d4fbfda060d",
       "version_major": 2,
       "version_minor": 0
      },
      "text/plain": [
       "Estimating transforms:   0%|          | 0/1000 [00:00<?, ?it/s]"
      ]
     },
     "metadata": {},
     "output_type": "display_data"
    },
    {
     "name": "stdout",
     "output_type": "stream",
     "text": [
      "{'subsample': 0.8, 'n_estimators': 1000, 'min_child_weight': 1, 'max_depth': 4, 'gamma': 0.5, 'colsample_bytree': 1.0}\n",
      "{'bootstrap': True, 'max_depth': 70, 'min_samples_leaf': 5, 'min_samples_split': 10, 'n_estimators': 500}\n",
      "LR, XGBoost, RF:  [0.81235181 0.87207658 0.86298488]\n"
     ]
    },
    {
     "name": "stderr",
     "output_type": "stream",
     "text": [
      "/home/dliu/miniconda3/envs/py38/lib/python3.8/site-packages/sklearn/svm/_base.py:1250: ConvergenceWarning: Liblinear failed to converge, increase the number of iterations.\n",
      "  warnings.warn(\n"
     ]
    },
    {
     "name": "stdout",
     "output_type": "stream",
     "text": [
      "{'C': 2.0, 'fit_intercept': True, 'max_iter': 50, 'penalty': 'l1', 'tol': 0.01}\n"
     ]
    },
    {
     "name": "stderr",
     "output_type": "stream",
     "text": [
      "The feature_perturbation option is now deprecated in favor of using the appropriate masker (maskers.Independent, or maskers.Impute)\n"
     ]
    },
    {
     "data": {
      "application/vnd.jupyter.widget-view+json": {
       "model_id": "7c52a7e78513432881a8e5ee4e4c213b",
       "version_major": 2,
       "version_minor": 0
      },
      "text/plain": [
       "Estimating transforms:   0%|          | 0/1000 [00:00<?, ?it/s]"
      ]
     },
     "metadata": {},
     "output_type": "display_data"
    },
    {
     "name": "stdout",
     "output_type": "stream",
     "text": [
      "{'subsample': 0.8, 'n_estimators': 1000, 'min_child_weight': 1, 'max_depth': 4, 'gamma': 0.5, 'colsample_bytree': 1.0}\n",
      "{'bootstrap': False, 'max_depth': None, 'min_samples_leaf': 5, 'min_samples_split': 5, 'n_estimators': 500}\n",
      "LR, XGBoost, RF:  [0.82941073 0.8806046  0.85480778]\n",
      "{'C': 2.0, 'fit_intercept': False, 'max_iter': 50, 'penalty': 'l1', 'tol': 1e-05}\n"
     ]
    },
    {
     "name": "stderr",
     "output_type": "stream",
     "text": [
      "The feature_perturbation option is now deprecated in favor of using the appropriate masker (maskers.Independent, or maskers.Impute)\n"
     ]
    },
    {
     "data": {
      "application/vnd.jupyter.widget-view+json": {
       "model_id": "fcdfcf165fd8488c9fbdab520e4b2ee2",
       "version_major": 2,
       "version_minor": 0
      },
      "text/plain": [
       "Estimating transforms:   0%|          | 0/1000 [00:00<?, ?it/s]"
      ]
     },
     "metadata": {},
     "output_type": "display_data"
    },
    {
     "name": "stdout",
     "output_type": "stream",
     "text": [
      "{'subsample': 0.8, 'n_estimators': 1000, 'min_child_weight': 1, 'max_depth': 4, 'gamma': 0.5, 'colsample_bytree': 1.0}\n",
      "{'bootstrap': False, 'max_depth': None, 'min_samples_leaf': 5, 'min_samples_split': 10, 'n_estimators': 200}\n",
      "LR, XGBoost, RF:  [0.82090721 0.8720207  0.8206449 ]\n",
      "{'C': 2.0, 'fit_intercept': False, 'max_iter': 50, 'penalty': 'l1', 'tol': 1e-05}\n"
     ]
    },
    {
     "name": "stderr",
     "output_type": "stream",
     "text": [
      "The feature_perturbation option is now deprecated in favor of using the appropriate masker (maskers.Independent, or maskers.Impute)\n"
     ]
    },
    {
     "data": {
      "application/vnd.jupyter.widget-view+json": {
       "model_id": "0eae03a3879d42bf8496fe93c36838ad",
       "version_major": 2,
       "version_minor": 0
      },
      "text/plain": [
       "Estimating transforms:   0%|          | 0/1000 [00:00<?, ?it/s]"
      ]
     },
     "metadata": {},
     "output_type": "display_data"
    },
    {
     "name": "stdout",
     "output_type": "stream",
     "text": [
      "{'subsample': 0.8, 'n_estimators': 1000, 'min_child_weight': 1, 'max_depth': 4, 'gamma': 0.5, 'colsample_bytree': 1.0}\n",
      "{'bootstrap': True, 'max_depth': 70, 'min_samples_leaf': 5, 'min_samples_split': 10, 'n_estimators': 200}\n",
      "LR, XGBoost, RF:  [0.81221453 0.79514313 0.8028069 ]\n",
      "{'C': 2.0, 'fit_intercept': True, 'max_iter': 250, 'penalty': 'l1', 'tol': 0.001}\n"
     ]
    },
    {
     "name": "stderr",
     "output_type": "stream",
     "text": [
      "The feature_perturbation option is now deprecated in favor of using the appropriate masker (maskers.Independent, or maskers.Impute)\n"
     ]
    },
    {
     "data": {
      "application/vnd.jupyter.widget-view+json": {
       "model_id": "1089170ecaac45ef9e00b3efb33cc42c",
       "version_major": 2,
       "version_minor": 0
      },
      "text/plain": [
       "Estimating transforms:   0%|          | 0/1000 [00:00<?, ?it/s]"
      ]
     },
     "metadata": {},
     "output_type": "display_data"
    },
    {
     "name": "stdout",
     "output_type": "stream",
     "text": [
      "{'subsample': 0.8, 'n_estimators': 1000, 'min_child_weight': 1, 'max_depth': 4, 'gamma': 0.5, 'colsample_bytree': 1.0}\n",
      "{'bootstrap': True, 'max_depth': None, 'min_samples_leaf': 5, 'min_samples_split': 5, 'n_estimators': 500}\n",
      "LR, XGBoost, RF:  [0.78670117 0.83772634 0.81944389]\n",
      "{'C': 2.0, 'fit_intercept': True, 'max_iter': 50, 'penalty': 'l1', 'tol': 1e-05}\n"
     ]
    },
    {
     "name": "stderr",
     "output_type": "stream",
     "text": [
      "The feature_perturbation option is now deprecated in favor of using the appropriate masker (maskers.Independent, or maskers.Impute)\n"
     ]
    },
    {
     "data": {
      "application/vnd.jupyter.widget-view+json": {
       "model_id": "254ce4aaf94e48d08b8c836d448fc060",
       "version_major": 2,
       "version_minor": 0
      },
      "text/plain": [
       "Estimating transforms:   0%|          | 0/1000 [00:00<?, ?it/s]"
      ]
     },
     "metadata": {},
     "output_type": "display_data"
    },
    {
     "name": "stdout",
     "output_type": "stream",
     "text": [
      "{'subsample': 0.8, 'n_estimators': 1000, 'min_child_weight': 1, 'max_depth': 4, 'gamma': 0.5, 'colsample_bytree': 1.0}\n",
      "{'bootstrap': True, 'max_depth': 10, 'min_samples_leaf': 5, 'min_samples_split': 10, 'n_estimators': 200}\n",
      "LR, XGBoost, RF:  [0.75231915 0.81221453 0.81160421]\n"
     ]
    },
    {
     "name": "stderr",
     "output_type": "stream",
     "text": [
      "/home/dliu/miniconda3/envs/py38/lib/python3.8/site-packages/sklearn/svm/_base.py:1250: ConvergenceWarning: Liblinear failed to converge, increase the number of iterations.\n",
      "  warnings.warn(\n"
     ]
    },
    {
     "name": "stdout",
     "output_type": "stream",
     "text": [
      "{'C': 1.0, 'fit_intercept': True, 'max_iter': 50, 'penalty': 'l1', 'tol': 0.01}\n"
     ]
    },
    {
     "name": "stderr",
     "output_type": "stream",
     "text": [
      "The feature_perturbation option is now deprecated in favor of using the appropriate masker (maskers.Independent, or maskers.Impute)\n"
     ]
    },
    {
     "data": {
      "application/vnd.jupyter.widget-view+json": {
       "model_id": "48fbc8de67204ddabf4f90c29d44b683",
       "version_major": 2,
       "version_minor": 0
      },
      "text/plain": [
       "Estimating transforms:   0%|          | 0/1000 [00:00<?, ?it/s]"
      ]
     },
     "metadata": {},
     "output_type": "display_data"
    },
    {
     "name": "stdout",
     "output_type": "stream",
     "text": [
      "{'subsample': 0.8, 'n_estimators': 1000, 'min_child_weight': 1, 'max_depth': 4, 'gamma': 0.5, 'colsample_bytree': 1.0}\n",
      "{'bootstrap': True, 'max_depth': 70, 'min_samples_leaf': 5, 'min_samples_split': 10, 'n_estimators': 500}\n",
      "LR, XGBoost, RF:  [0.79925842 0.88421948 0.85498289]\n",
      "{'C': 1.0, 'fit_intercept': True, 'max_iter': 50, 'penalty': 'l1', 'tol': 0.01}\n"
     ]
    },
    {
     "name": "stderr",
     "output_type": "stream",
     "text": [
      "The feature_perturbation option is now deprecated in favor of using the appropriate masker (maskers.Independent, or maskers.Impute)\n"
     ]
    },
    {
     "data": {
      "application/vnd.jupyter.widget-view+json": {
       "model_id": "4fba5d4dda564640808dbe6bd5c0426e",
       "version_major": 2,
       "version_minor": 0
      },
      "text/plain": [
       "Estimating transforms:   0%|          | 0/1000 [00:00<?, ?it/s]"
      ]
     },
     "metadata": {},
     "output_type": "display_data"
    },
    {
     "name": "stdout",
     "output_type": "stream",
     "text": [
      "{'subsample': 0.8, 'n_estimators': 1000, 'min_child_weight': 1, 'max_depth': 4, 'gamma': 0.5, 'colsample_bytree': 1.0}\n",
      "{'bootstrap': True, 'max_depth': None, 'min_samples_leaf': 5, 'min_samples_split': 5, 'n_estimators': 500}\n",
      "LR, XGBoost, RF:  [0.7897207  0.88372917 0.86366479]\n",
      "{'C': 1.0, 'fit_intercept': False, 'max_iter': 250, 'penalty': 'l1', 'tol': 0.01}\n"
     ]
    },
    {
     "name": "stderr",
     "output_type": "stream",
     "text": [
      "The feature_perturbation option is now deprecated in favor of using the appropriate masker (maskers.Independent, or maskers.Impute)\n"
     ]
    },
    {
     "data": {
      "application/vnd.jupyter.widget-view+json": {
       "model_id": "a24d584ad1ab4c08a581d58697e18cbd",
       "version_major": 2,
       "version_minor": 0
      },
      "text/plain": [
       "Estimating transforms:   0%|          | 0/1000 [00:00<?, ?it/s]"
      ]
     },
     "metadata": {},
     "output_type": "display_data"
    },
    {
     "name": "stdout",
     "output_type": "stream",
     "text": [
      "{'subsample': 0.8, 'n_estimators': 1000, 'min_child_weight': 1, 'max_depth': 4, 'gamma': 0.5, 'colsample_bytree': 1.0}\n",
      "{'bootstrap': True, 'max_depth': 10, 'min_samples_leaf': 5, 'min_samples_split': 5, 'n_estimators': 500}\n",
      "LR, XGBoost, RF:  [0.79911533 0.90351623 0.89365412]\n"
     ]
    },
    {
     "name": "stderr",
     "output_type": "stream",
     "text": [
      "/home/dliu/miniconda3/envs/py38/lib/python3.8/site-packages/sklearn/svm/_base.py:1250: ConvergenceWarning: Liblinear failed to converge, increase the number of iterations.\n",
      "  warnings.warn(\n",
      "/home/dliu/miniconda3/envs/py38/lib/python3.8/site-packages/sklearn/svm/_base.py:1250: ConvergenceWarning: Liblinear failed to converge, increase the number of iterations.\n",
      "  warnings.warn(\n"
     ]
    },
    {
     "name": "stdout",
     "output_type": "stream",
     "text": [
      "{'C': 2.0, 'fit_intercept': True, 'max_iter': 50, 'penalty': 'l2', 'tol': 1e-05}\n"
     ]
    },
    {
     "name": "stderr",
     "output_type": "stream",
     "text": [
      "The feature_perturbation option is now deprecated in favor of using the appropriate masker (maskers.Independent, or maskers.Impute)\n"
     ]
    },
    {
     "data": {
      "application/vnd.jupyter.widget-view+json": {
       "model_id": "5e1f038d347d4f618802702dfb433454",
       "version_major": 2,
       "version_minor": 0
      },
      "text/plain": [
       "Estimating transforms:   0%|          | 0/1000 [00:00<?, ?it/s]"
      ]
     },
     "metadata": {},
     "output_type": "display_data"
    },
    {
     "name": "stdout",
     "output_type": "stream",
     "text": [
      "{'subsample': 0.8, 'n_estimators': 1000, 'min_child_weight': 1, 'max_depth': 4, 'gamma': 0.5, 'colsample_bytree': 1.0}\n",
      "{'bootstrap': True, 'max_depth': 10, 'min_samples_leaf': 5, 'min_samples_split': 10, 'n_estimators': 200}\n",
      "LR, XGBoost, RF:  [0.79910609 0.93201112 0.91258573]\n",
      "{'C': 1.0, 'fit_intercept': True, 'max_iter': 50, 'penalty': 'l1', 'tol': 0.01}\n"
     ]
    },
    {
     "name": "stderr",
     "output_type": "stream",
     "text": [
      "/home/dliu/miniconda3/envs/py38/lib/python3.8/site-packages/sklearn/svm/_base.py:1250: ConvergenceWarning: Liblinear failed to converge, increase the number of iterations.\n",
      "  warnings.warn(\n",
      "The feature_perturbation option is now deprecated in favor of using the appropriate masker (maskers.Independent, or maskers.Impute)\n"
     ]
    },
    {
     "data": {
      "application/vnd.jupyter.widget-view+json": {
       "model_id": "ce65fb8d0c3a40609b463e8bcfae064f",
       "version_major": 2,
       "version_minor": 0
      },
      "text/plain": [
       "Estimating transforms:   0%|          | 0/1000 [00:00<?, ?it/s]"
      ]
     },
     "metadata": {},
     "output_type": "display_data"
    },
    {
     "name": "stdout",
     "output_type": "stream",
     "text": [
      "{'subsample': 0.8, 'n_estimators': 1000, 'min_child_weight': 1, 'max_depth': 4, 'gamma': 0.5, 'colsample_bytree': 1.0}\n",
      "{'bootstrap': True, 'max_depth': 10, 'min_samples_leaf': 5, 'min_samples_split': 5, 'n_estimators': 200}\n",
      "LR, XGBoost, RF:  [0.78014017 0.95166096 0.89316033]\n"
     ]
    },
    {
     "name": "stderr",
     "output_type": "stream",
     "text": [
      "/home/dliu/miniconda3/envs/py38/lib/python3.8/site-packages/sklearn/svm/_base.py:1250: ConvergenceWarning: Liblinear failed to converge, increase the number of iterations.\n",
      "  warnings.warn(\n",
      "/home/dliu/miniconda3/envs/py38/lib/python3.8/site-packages/sklearn/svm/_base.py:1250: ConvergenceWarning: Liblinear failed to converge, increase the number of iterations.\n",
      "  warnings.warn(\n",
      "/home/dliu/miniconda3/envs/py38/lib/python3.8/site-packages/sklearn/svm/_base.py:1250: ConvergenceWarning: Liblinear failed to converge, increase the number of iterations.\n",
      "  warnings.warn(\n"
     ]
    },
    {
     "name": "stdout",
     "output_type": "stream",
     "text": [
      "{'C': 2.0, 'fit_intercept': False, 'max_iter': 100, 'penalty': 'l1', 'tol': 0.01}\n"
     ]
    },
    {
     "name": "stderr",
     "output_type": "stream",
     "text": [
      "The feature_perturbation option is now deprecated in favor of using the appropriate masker (maskers.Independent, or maskers.Impute)\n"
     ]
    },
    {
     "data": {
      "application/vnd.jupyter.widget-view+json": {
       "model_id": "003b09dbe2b643eda940ff267227f7d9",
       "version_major": 2,
       "version_minor": 0
      },
      "text/plain": [
       "Estimating transforms:   0%|          | 0/1000 [00:00<?, ?it/s]"
      ]
     },
     "metadata": {},
     "output_type": "display_data"
    },
    {
     "name": "stdout",
     "output_type": "stream",
     "text": [
      "{'subsample': 0.8, 'n_estimators': 1000, 'min_child_weight': 1, 'max_depth': 4, 'gamma': 0.5, 'colsample_bytree': 1.0}\n",
      "{'bootstrap': True, 'max_depth': 10, 'min_samples_leaf': 5, 'min_samples_split': 10, 'n_estimators': 500}\n",
      "LR, XGBoost, RF:  [0.77965624 0.94210974 0.89365412]\n"
     ]
    },
    {
     "name": "stderr",
     "output_type": "stream",
     "text": [
      "/home/dliu/miniconda3/envs/py38/lib/python3.8/site-packages/sklearn/svm/_base.py:1250: ConvergenceWarning: Liblinear failed to converge, increase the number of iterations.\n",
      "  warnings.warn(\n",
      "/home/dliu/miniconda3/envs/py38/lib/python3.8/site-packages/sklearn/svm/_base.py:1250: ConvergenceWarning: Liblinear failed to converge, increase the number of iterations.\n",
      "  warnings.warn(\n",
      "/home/dliu/miniconda3/envs/py38/lib/python3.8/site-packages/sklearn/svm/_base.py:1250: ConvergenceWarning: Liblinear failed to converge, increase the number of iterations.\n",
      "  warnings.warn(\n",
      "/home/dliu/miniconda3/envs/py38/lib/python3.8/site-packages/sklearn/svm/_base.py:1250: ConvergenceWarning: Liblinear failed to converge, increase the number of iterations.\n",
      "  warnings.warn(\n"
     ]
    },
    {
     "name": "stdout",
     "output_type": "stream",
     "text": [
      "{'C': 2.0, 'fit_intercept': False, 'max_iter': 50, 'penalty': 'l1', 'tol': 1e-05}\n"
     ]
    },
    {
     "name": "stderr",
     "output_type": "stream",
     "text": [
      "The feature_perturbation option is now deprecated in favor of using the appropriate masker (maskers.Independent, or maskers.Impute)\n"
     ]
    },
    {
     "data": {
      "application/vnd.jupyter.widget-view+json": {
       "model_id": "b766fc7a475f4756a46b1530228993ce",
       "version_major": 2,
       "version_minor": 0
      },
      "text/plain": [
       "Estimating transforms:   0%|          | 0/1000 [00:00<?, ?it/s]"
      ]
     },
     "metadata": {},
     "output_type": "display_data"
    },
    {
     "name": "stdout",
     "output_type": "stream",
     "text": [
      "{'subsample': 0.8, 'n_estimators': 1000, 'min_child_weight': 1, 'max_depth': 4, 'gamma': 0.5, 'colsample_bytree': 1.0}\n",
      "{'bootstrap': True, 'max_depth': None, 'min_samples_leaf': 5, 'min_samples_split': 10, 'n_estimators': 500}\n",
      "LR, XGBoost, RF:  [0.77965624 0.90310765 0.89365412]\n"
     ]
    },
    {
     "name": "stderr",
     "output_type": "stream",
     "text": [
      "/home/dliu/miniconda3/envs/py38/lib/python3.8/site-packages/sklearn/svm/_base.py:1250: ConvergenceWarning: Liblinear failed to converge, increase the number of iterations.\n",
      "  warnings.warn(\n",
      "/home/dliu/miniconda3/envs/py38/lib/python3.8/site-packages/sklearn/svm/_base.py:1250: ConvergenceWarning: Liblinear failed to converge, increase the number of iterations.\n",
      "  warnings.warn(\n",
      "/home/dliu/miniconda3/envs/py38/lib/python3.8/site-packages/sklearn/svm/_base.py:1250: ConvergenceWarning: Liblinear failed to converge, increase the number of iterations.\n",
      "  warnings.warn(\n",
      "/home/dliu/miniconda3/envs/py38/lib/python3.8/site-packages/sklearn/svm/_base.py:1250: ConvergenceWarning: Liblinear failed to converge, increase the number of iterations.\n",
      "  warnings.warn(\n",
      "/home/dliu/miniconda3/envs/py38/lib/python3.8/site-packages/sklearn/svm/_base.py:1250: ConvergenceWarning: Liblinear failed to converge, increase the number of iterations.\n",
      "  warnings.warn(\n"
     ]
    },
    {
     "name": "stdout",
     "output_type": "stream",
     "text": [
      "{'C': 2.0, 'fit_intercept': True, 'max_iter': 50, 'penalty': 'l2', 'tol': 1e-05}\n"
     ]
    },
    {
     "name": "stderr",
     "output_type": "stream",
     "text": [
      "The feature_perturbation option is now deprecated in favor of using the appropriate masker (maskers.Independent, or maskers.Impute)\n"
     ]
    },
    {
     "data": {
      "application/vnd.jupyter.widget-view+json": {
       "model_id": "6eb843391274451986a472f3170866b3",
       "version_major": 2,
       "version_minor": 0
      },
      "text/plain": [
       "Estimating transforms:   0%|          | 0/1000 [00:00<?, ?it/s]"
      ]
     },
     "metadata": {},
     "output_type": "display_data"
    },
    {
     "name": "stdout",
     "output_type": "stream",
     "text": [
      "{'subsample': 0.8, 'n_estimators': 1000, 'min_child_weight': 1, 'max_depth': 4, 'gamma': 0.5, 'colsample_bytree': 1.0}\n",
      "{'bootstrap': True, 'max_depth': None, 'min_samples_leaf': 5, 'min_samples_split': 5, 'n_estimators': 200}\n",
      "LR, XGBoost, RF:  [0.76085158 0.90310765 0.89316033]\n"
     ]
    },
    {
     "name": "stderr",
     "output_type": "stream",
     "text": [
      "/home/dliu/miniconda3/envs/py38/lib/python3.8/site-packages/sklearn/svm/_base.py:1250: ConvergenceWarning: Liblinear failed to converge, increase the number of iterations.\n",
      "  warnings.warn(\n",
      "/home/dliu/miniconda3/envs/py38/lib/python3.8/site-packages/sklearn/svm/_base.py:1250: ConvergenceWarning: Liblinear failed to converge, increase the number of iterations.\n",
      "  warnings.warn(\n",
      "/home/dliu/miniconda3/envs/py38/lib/python3.8/site-packages/sklearn/svm/_base.py:1250: ConvergenceWarning: Liblinear failed to converge, increase the number of iterations.\n",
      "  warnings.warn(\n",
      "/home/dliu/miniconda3/envs/py38/lib/python3.8/site-packages/sklearn/svm/_base.py:1250: ConvergenceWarning: Liblinear failed to converge, increase the number of iterations.\n",
      "  warnings.warn(\n",
      "/home/dliu/miniconda3/envs/py38/lib/python3.8/site-packages/sklearn/svm/_base.py:1250: ConvergenceWarning: Liblinear failed to converge, increase the number of iterations.\n",
      "  warnings.warn(\n"
     ]
    },
    {
     "name": "stdout",
     "output_type": "stream",
     "text": [
      "{'C': 2.0, 'fit_intercept': True, 'max_iter': 50, 'penalty': 'l2', 'tol': 1e-05}\n"
     ]
    },
    {
     "name": "stderr",
     "output_type": "stream",
     "text": [
      "The feature_perturbation option is now deprecated in favor of using the appropriate masker (maskers.Independent, or maskers.Impute)\n"
     ]
    },
    {
     "data": {
      "application/vnd.jupyter.widget-view+json": {
       "model_id": "3a092382045e462f842785e4faf5adeb",
       "version_major": 2,
       "version_minor": 0
      },
      "text/plain": [
       "Estimating transforms:   0%|          | 0/1000 [00:00<?, ?it/s]"
      ]
     },
     "metadata": {},
     "output_type": "display_data"
    },
    {
     "name": "stdout",
     "output_type": "stream",
     "text": [
      "{'subsample': 0.8, 'n_estimators': 1000, 'min_child_weight': 1, 'max_depth': 4, 'gamma': 0.5, 'colsample_bytree': 1.0}\n",
      "{'bootstrap': True, 'max_depth': 10, 'min_samples_leaf': 5, 'min_samples_split': 10, 'n_estimators': 200}\n",
      "LR, XGBoost, RF:  [0.76085158 0.90351623 0.88372917]\n"
     ]
    },
    {
     "name": "stderr",
     "output_type": "stream",
     "text": [
      "/home/dliu/miniconda3/envs/py38/lib/python3.8/site-packages/sklearn/svm/_base.py:1250: ConvergenceWarning: Liblinear failed to converge, increase the number of iterations.\n",
      "  warnings.warn(\n",
      "/home/dliu/miniconda3/envs/py38/lib/python3.8/site-packages/sklearn/svm/_base.py:1250: ConvergenceWarning: Liblinear failed to converge, increase the number of iterations.\n",
      "  warnings.warn(\n",
      "/home/dliu/miniconda3/envs/py38/lib/python3.8/site-packages/sklearn/svm/_base.py:1250: ConvergenceWarning: Liblinear failed to converge, increase the number of iterations.\n",
      "  warnings.warn(\n",
      "/home/dliu/miniconda3/envs/py38/lib/python3.8/site-packages/sklearn/svm/_base.py:1250: ConvergenceWarning: Liblinear failed to converge, increase the number of iterations.\n",
      "  warnings.warn(\n",
      "/home/dliu/miniconda3/envs/py38/lib/python3.8/site-packages/sklearn/svm/_base.py:1250: ConvergenceWarning: Liblinear failed to converge, increase the number of iterations.\n",
      "  warnings.warn(\n",
      "/home/dliu/miniconda3/envs/py38/lib/python3.8/site-packages/sklearn/svm/_base.py:1250: ConvergenceWarning: Liblinear failed to converge, increase the number of iterations.\n",
      "  warnings.warn(\n"
     ]
    },
    {
     "name": "stdout",
     "output_type": "stream",
     "text": [
      "{'C': 2.0, 'fit_intercept': True, 'max_iter': 50, 'penalty': 'l2', 'tol': 1e-05}\n"
     ]
    },
    {
     "name": "stderr",
     "output_type": "stream",
     "text": [
      "The feature_perturbation option is now deprecated in favor of using the appropriate masker (maskers.Independent, or maskers.Impute)\n"
     ]
    },
    {
     "data": {
      "application/vnd.jupyter.widget-view+json": {
       "model_id": "5b63b44d68d14e3e95e1485cdd334b04",
       "version_major": 2,
       "version_minor": 0
      },
      "text/plain": [
       "Estimating transforms:   0%|          | 0/1000 [00:00<?, ?it/s]"
      ]
     },
     "metadata": {},
     "output_type": "display_data"
    },
    {
     "name": "stdout",
     "output_type": "stream",
     "text": [
      "{'subsample': 0.8, 'n_estimators': 1000, 'min_child_weight': 1, 'max_depth': 4, 'gamma': 0.5, 'colsample_bytree': 1.0}\n",
      "{'bootstrap': True, 'max_depth': 10, 'min_samples_leaf': 5, 'min_samples_split': 10, 'n_estimators': 200}\n",
      "LR, XGBoost, RF:  [0.75139978 0.88461538 0.87431851]\n"
     ]
    },
    {
     "name": "stderr",
     "output_type": "stream",
     "text": [
      "/home/dliu/miniconda3/envs/py38/lib/python3.8/site-packages/sklearn/svm/_base.py:1250: ConvergenceWarning: Liblinear failed to converge, increase the number of iterations.\n",
      "  warnings.warn(\n",
      "/home/dliu/miniconda3/envs/py38/lib/python3.8/site-packages/sklearn/svm/_base.py:1250: ConvergenceWarning: Liblinear failed to converge, increase the number of iterations.\n",
      "  warnings.warn(\n",
      "/home/dliu/miniconda3/envs/py38/lib/python3.8/site-packages/sklearn/svm/_base.py:1250: ConvergenceWarning: Liblinear failed to converge, increase the number of iterations.\n",
      "  warnings.warn(\n",
      "/home/dliu/miniconda3/envs/py38/lib/python3.8/site-packages/sklearn/svm/_base.py:1250: ConvergenceWarning: Liblinear failed to converge, increase the number of iterations.\n",
      "  warnings.warn(\n",
      "/home/dliu/miniconda3/envs/py38/lib/python3.8/site-packages/sklearn/svm/_base.py:1250: ConvergenceWarning: Liblinear failed to converge, increase the number of iterations.\n",
      "  warnings.warn(\n"
     ]
    },
    {
     "name": "stdout",
     "output_type": "stream",
     "text": [
      "{'C': 0.5, 'fit_intercept': True, 'max_iter': 50, 'penalty': 'l1', 'tol': 1e-05}\n"
     ]
    },
    {
     "name": "stderr",
     "output_type": "stream",
     "text": [
      "The feature_perturbation option is now deprecated in favor of using the appropriate masker (maskers.Independent, or maskers.Impute)\n"
     ]
    },
    {
     "data": {
      "application/vnd.jupyter.widget-view+json": {
       "model_id": "7568c0dafe004232a51c0e388e0995ee",
       "version_major": 2,
       "version_minor": 0
      },
      "text/plain": [
       "Estimating transforms:   0%|          | 0/1000 [00:00<?, ?it/s]"
      ]
     },
     "metadata": {},
     "output_type": "display_data"
    },
    {
     "name": "stdout",
     "output_type": "stream",
     "text": [
      "{'subsample': 0.8, 'n_estimators': 1000, 'min_child_weight': 1, 'max_depth': 4, 'gamma': 0.5, 'colsample_bytree': 1.0}\n",
      "{'bootstrap': True, 'max_depth': None, 'min_samples_leaf': 5, 'min_samples_split': 10, 'n_estimators': 200}\n",
      "LR, XGBoost, RF:  [0.72278543 0.85498289 0.87431851]\n"
     ]
    },
    {
     "name": "stderr",
     "output_type": "stream",
     "text": [
      "/home/dliu/miniconda3/envs/py38/lib/python3.8/site-packages/sklearn/svm/_base.py:1250: ConvergenceWarning: Liblinear failed to converge, increase the number of iterations.\n",
      "  warnings.warn(\n",
      "/home/dliu/miniconda3/envs/py38/lib/python3.8/site-packages/sklearn/svm/_base.py:1250: ConvergenceWarning: Liblinear failed to converge, increase the number of iterations.\n",
      "  warnings.warn(\n"
     ]
    },
    {
     "name": "stdout",
     "output_type": "stream",
     "text": [
      "{'C': 0.5, 'fit_intercept': True, 'max_iter': 50, 'penalty': 'l1', 'tol': 1e-05}\n"
     ]
    },
    {
     "name": "stderr",
     "output_type": "stream",
     "text": [
      "The feature_perturbation option is now deprecated in favor of using the appropriate masker (maskers.Independent, or maskers.Impute)\n"
     ]
    },
    {
     "data": {
      "application/vnd.jupyter.widget-view+json": {
       "model_id": "902894682b66408cbc6c4007ef1e5b9b",
       "version_major": 2,
       "version_minor": 0
      },
      "text/plain": [
       "Estimating transforms:   0%|          | 0/1000 [00:00<?, ?it/s]"
      ]
     },
     "metadata": {},
     "output_type": "display_data"
    },
    {
     "name": "stdout",
     "output_type": "stream",
     "text": [
      "{'subsample': 0.8, 'n_estimators': 1000, 'min_child_weight': 1, 'max_depth': 4, 'gamma': 0.5, 'colsample_bytree': 1.0}\n",
      "{'bootstrap': False, 'max_depth': 70, 'min_samples_leaf': 5, 'min_samples_split': 5, 'n_estimators': 200}\n",
      "LR, XGBoost, RF:  [0.82159845 0.85319746 0.86110483]\n"
     ]
    },
    {
     "name": "stderr",
     "output_type": "stream",
     "text": [
      "/home/dliu/miniconda3/envs/py38/lib/python3.8/site-packages/sklearn/svm/_base.py:1250: ConvergenceWarning: Liblinear failed to converge, increase the number of iterations.\n",
      "  warnings.warn(\n",
      "/home/dliu/miniconda3/envs/py38/lib/python3.8/site-packages/sklearn/svm/_base.py:1250: ConvergenceWarning: Liblinear failed to converge, increase the number of iterations.\n",
      "  warnings.warn(\n",
      "/home/dliu/miniconda3/envs/py38/lib/python3.8/site-packages/sklearn/svm/_base.py:1250: ConvergenceWarning: Liblinear failed to converge, increase the number of iterations.\n",
      "  warnings.warn(\n"
     ]
    },
    {
     "name": "stdout",
     "output_type": "stream",
     "text": [
      "{'C': 0.5, 'fit_intercept': True, 'max_iter': 50, 'penalty': 'l1', 'tol': 1e-05}\n"
     ]
    },
    {
     "name": "stderr",
     "output_type": "stream",
     "text": [
      "The feature_perturbation option is now deprecated in favor of using the appropriate masker (maskers.Independent, or maskers.Impute)\n"
     ]
    },
    {
     "data": {
      "application/vnd.jupyter.widget-view+json": {
       "model_id": "a7f95570fab04f1fa6d71f4d5968cee0",
       "version_major": 2,
       "version_minor": 0
      },
      "text/plain": [
       "Estimating transforms:   0%|          | 0/1000 [00:00<?, ?it/s]"
      ]
     },
     "metadata": {},
     "output_type": "display_data"
    },
    {
     "name": "stdout",
     "output_type": "stream",
     "text": [
      "{'subsample': 0.8, 'n_estimators': 1000, 'min_child_weight': 1, 'max_depth': 4, 'gamma': 0.5, 'colsample_bytree': 1.0}\n",
      "{'bootstrap': True, 'max_depth': None, 'min_samples_leaf': 5, 'min_samples_split': 5, 'n_estimators': 200}\n",
      "LR, XGBoost, RF:  [0.82159845 0.84476422 0.89378604]\n"
     ]
    },
    {
     "name": "stderr",
     "output_type": "stream",
     "text": [
      "/home/dliu/miniconda3/envs/py38/lib/python3.8/site-packages/sklearn/svm/_base.py:1250: ConvergenceWarning: Liblinear failed to converge, increase the number of iterations.\n",
      "  warnings.warn(\n",
      "/home/dliu/miniconda3/envs/py38/lib/python3.8/site-packages/sklearn/svm/_base.py:1250: ConvergenceWarning: Liblinear failed to converge, increase the number of iterations.\n",
      "  warnings.warn(\n",
      "/home/dliu/miniconda3/envs/py38/lib/python3.8/site-packages/sklearn/svm/_base.py:1250: ConvergenceWarning: Liblinear failed to converge, increase the number of iterations.\n",
      "  warnings.warn(\n",
      "/home/dliu/miniconda3/envs/py38/lib/python3.8/site-packages/sklearn/svm/_base.py:1250: ConvergenceWarning: Liblinear failed to converge, increase the number of iterations.\n",
      "  warnings.warn(\n",
      "/home/dliu/miniconda3/envs/py38/lib/python3.8/site-packages/sklearn/svm/_base.py:1250: ConvergenceWarning: Liblinear failed to converge, increase the number of iterations.\n",
      "  warnings.warn(\n"
     ]
    },
    {
     "name": "stdout",
     "output_type": "stream",
     "text": [
      "{'C': 0.5, 'fit_intercept': True, 'max_iter': 50, 'penalty': 'l1', 'tol': 1e-05}\n"
     ]
    },
    {
     "name": "stderr",
     "output_type": "stream",
     "text": [
      "The feature_perturbation option is now deprecated in favor of using the appropriate masker (maskers.Independent, or maskers.Impute)\n"
     ]
    },
    {
     "data": {
      "application/vnd.jupyter.widget-view+json": {
       "model_id": "2045cff860f34306aa1b25054e93a244",
       "version_major": 2,
       "version_minor": 0
      },
      "text/plain": [
       "Estimating transforms:   0%|          | 0/1000 [00:00<?, ?it/s]"
      ]
     },
     "metadata": {},
     "output_type": "display_data"
    },
    {
     "name": "stdout",
     "output_type": "stream",
     "text": [
      "{'subsample': 0.8, 'n_estimators': 1000, 'min_child_weight': 1, 'max_depth': 4, 'gamma': 0.5, 'colsample_bytree': 1.0}\n",
      "{'bootstrap': False, 'max_depth': None, 'min_samples_leaf': 5, 'min_samples_split': 10, 'n_estimators': 500}\n",
      "LR, XGBoost, RF:  [0.83739837 0.83688607 0.86950885]\n"
     ]
    },
    {
     "name": "stderr",
     "output_type": "stream",
     "text": [
      "/home/dliu/miniconda3/envs/py38/lib/python3.8/site-packages/sklearn/svm/_base.py:1250: ConvergenceWarning: Liblinear failed to converge, increase the number of iterations.\n",
      "  warnings.warn(\n",
      "/home/dliu/miniconda3/envs/py38/lib/python3.8/site-packages/sklearn/svm/_base.py:1250: ConvergenceWarning: Liblinear failed to converge, increase the number of iterations.\n",
      "  warnings.warn(\n",
      "/home/dliu/miniconda3/envs/py38/lib/python3.8/site-packages/sklearn/svm/_base.py:1250: ConvergenceWarning: Liblinear failed to converge, increase the number of iterations.\n",
      "  warnings.warn(\n",
      "/home/dliu/miniconda3/envs/py38/lib/python3.8/site-packages/sklearn/svm/_base.py:1250: ConvergenceWarning: Liblinear failed to converge, increase the number of iterations.\n",
      "  warnings.warn(\n",
      "/home/dliu/miniconda3/envs/py38/lib/python3.8/site-packages/sklearn/svm/_base.py:1250: ConvergenceWarning: Liblinear failed to converge, increase the number of iterations.\n",
      "  warnings.warn(\n",
      "/home/dliu/miniconda3/envs/py38/lib/python3.8/site-packages/sklearn/svm/_base.py:1250: ConvergenceWarning: Liblinear failed to converge, increase the number of iterations.\n",
      "  warnings.warn(\n"
     ]
    },
    {
     "name": "stdout",
     "output_type": "stream",
     "text": [
      "{'C': 0.5, 'fit_intercept': True, 'max_iter': 50, 'penalty': 'l1', 'tol': 1e-05}\n"
     ]
    },
    {
     "name": "stderr",
     "output_type": "stream",
     "text": [
      "/home/dliu/miniconda3/envs/py38/lib/python3.8/site-packages/sklearn/svm/_base.py:1250: ConvergenceWarning: Liblinear failed to converge, increase the number of iterations.\n",
      "  warnings.warn(\n",
      "/home/dliu/miniconda3/envs/py38/lib/python3.8/site-packages/sklearn/svm/_base.py:1250: ConvergenceWarning: Liblinear failed to converge, increase the number of iterations.\n",
      "  warnings.warn(\n",
      "/home/dliu/miniconda3/envs/py38/lib/python3.8/site-packages/sklearn/svm/_base.py:1250: ConvergenceWarning: Liblinear failed to converge, increase the number of iterations.\n",
      "  warnings.warn(\n",
      "The feature_perturbation option is now deprecated in favor of using the appropriate masker (maskers.Independent, or maskers.Impute)\n"
     ]
    },
    {
     "data": {
      "application/vnd.jupyter.widget-view+json": {
       "model_id": "8d74553405dc493683fc9a902063a4fd",
       "version_major": 2,
       "version_minor": 0
      },
      "text/plain": [
       "Estimating transforms:   0%|          | 0/1000 [00:00<?, ?it/s]"
      ]
     },
     "metadata": {},
     "output_type": "display_data"
    },
    {
     "name": "stdout",
     "output_type": "stream",
     "text": [
      "{'subsample': 0.8, 'n_estimators': 1000, 'min_child_weight': 1, 'max_depth': 4, 'gamma': 0.5, 'colsample_bytree': 1.0}\n",
      "{'bootstrap': False, 'max_depth': 70, 'min_samples_leaf': 5, 'min_samples_split': 10, 'n_estimators': 200}\n",
      "LR, XGBoost, RF:  [0.83739837 0.82901182 0.87744543]\n"
     ]
    },
    {
     "name": "stderr",
     "output_type": "stream",
     "text": [
      "/home/dliu/miniconda3/envs/py38/lib/python3.8/site-packages/sklearn/svm/_base.py:1250: ConvergenceWarning: Liblinear failed to converge, increase the number of iterations.\n",
      "  warnings.warn(\n",
      "/home/dliu/miniconda3/envs/py38/lib/python3.8/site-packages/sklearn/svm/_base.py:1250: ConvergenceWarning: Liblinear failed to converge, increase the number of iterations.\n",
      "  warnings.warn(\n",
      "/home/dliu/miniconda3/envs/py38/lib/python3.8/site-packages/sklearn/svm/_base.py:1250: ConvergenceWarning: Liblinear failed to converge, increase the number of iterations.\n",
      "  warnings.warn(\n",
      "/home/dliu/miniconda3/envs/py38/lib/python3.8/site-packages/sklearn/svm/_base.py:1250: ConvergenceWarning: Liblinear failed to converge, increase the number of iterations.\n",
      "  warnings.warn(\n",
      "/home/dliu/miniconda3/envs/py38/lib/python3.8/site-packages/sklearn/svm/_base.py:1250: ConvergenceWarning: Liblinear failed to converge, increase the number of iterations.\n",
      "  warnings.warn(\n",
      "/home/dliu/miniconda3/envs/py38/lib/python3.8/site-packages/sklearn/svm/_base.py:1250: ConvergenceWarning: Liblinear failed to converge, increase the number of iterations.\n",
      "  warnings.warn(\n",
      "/home/dliu/miniconda3/envs/py38/lib/python3.8/site-packages/sklearn/svm/_base.py:1250: ConvergenceWarning: Liblinear failed to converge, increase the number of iterations.\n",
      "  warnings.warn(\n",
      "/home/dliu/miniconda3/envs/py38/lib/python3.8/site-packages/sklearn/svm/_base.py:1250: ConvergenceWarning: Liblinear failed to converge, increase the number of iterations.\n",
      "  warnings.warn(\n",
      "/home/dliu/miniconda3/envs/py38/lib/python3.8/site-packages/sklearn/svm/_base.py:1250: ConvergenceWarning: Liblinear failed to converge, increase the number of iterations.\n",
      "  warnings.warn(\n",
      "/home/dliu/miniconda3/envs/py38/lib/python3.8/site-packages/sklearn/svm/_base.py:1250: ConvergenceWarning: Liblinear failed to converge, increase the number of iterations.\n",
      "  warnings.warn(\n"
     ]
    },
    {
     "name": "stdout",
     "output_type": "stream",
     "text": [
      "{'C': 0.5, 'fit_intercept': True, 'max_iter': 50, 'penalty': 'l1', 'tol': 0.01}\n"
     ]
    },
    {
     "name": "stderr",
     "output_type": "stream",
     "text": [
      "The feature_perturbation option is now deprecated in favor of using the appropriate masker (maskers.Independent, or maskers.Impute)\n"
     ]
    },
    {
     "data": {
      "application/vnd.jupyter.widget-view+json": {
       "model_id": "c63f19cf8dfc4c60bfdecdff7ec5a953",
       "version_major": 2,
       "version_minor": 0
      },
      "text/plain": [
       "Estimating transforms:   0%|          | 0/1000 [00:00<?, ?it/s]"
      ]
     },
     "metadata": {},
     "output_type": "display_data"
    },
    {
     "name": "stdout",
     "output_type": "stream",
     "text": [
      "{'subsample': 0.8, 'n_estimators': 1000, 'min_child_weight': 1, 'max_depth': 4, 'gamma': 0.5, 'colsample_bytree': 1.0}\n",
      "{'bootstrap': False, 'max_depth': 10, 'min_samples_leaf': 5, 'min_samples_split': 5, 'n_estimators': 200}\n",
      "LR, XGBoost, RF:  [0.82989102 0.85319746 0.84529641]\n"
     ]
    },
    {
     "name": "stderr",
     "output_type": "stream",
     "text": [
      "/home/dliu/miniconda3/envs/py38/lib/python3.8/site-packages/sklearn/svm/_base.py:1250: ConvergenceWarning: Liblinear failed to converge, increase the number of iterations.\n",
      "  warnings.warn(\n",
      "/home/dliu/miniconda3/envs/py38/lib/python3.8/site-packages/sklearn/svm/_base.py:1250: ConvergenceWarning: Liblinear failed to converge, increase the number of iterations.\n",
      "  warnings.warn(\n",
      "/home/dliu/miniconda3/envs/py38/lib/python3.8/site-packages/sklearn/svm/_base.py:1250: ConvergenceWarning: Liblinear failed to converge, increase the number of iterations.\n",
      "  warnings.warn(\n",
      "/home/dliu/miniconda3/envs/py38/lib/python3.8/site-packages/sklearn/svm/_base.py:1250: ConvergenceWarning: Liblinear failed to converge, increase the number of iterations.\n",
      "  warnings.warn(\n",
      "/home/dliu/miniconda3/envs/py38/lib/python3.8/site-packages/sklearn/svm/_base.py:1250: ConvergenceWarning: Liblinear failed to converge, increase the number of iterations.\n",
      "  warnings.warn(\n",
      "/home/dliu/miniconda3/envs/py38/lib/python3.8/site-packages/sklearn/svm/_base.py:1250: ConvergenceWarning: Liblinear failed to converge, increase the number of iterations.\n",
      "  warnings.warn(\n",
      "/home/dliu/miniconda3/envs/py38/lib/python3.8/site-packages/sklearn/svm/_base.py:1250: ConvergenceWarning: Liblinear failed to converge, increase the number of iterations.\n",
      "  warnings.warn(\n",
      "/home/dliu/miniconda3/envs/py38/lib/python3.8/site-packages/sklearn/svm/_base.py:1250: ConvergenceWarning: Liblinear failed to converge, increase the number of iterations.\n",
      "  warnings.warn(\n",
      "/home/dliu/miniconda3/envs/py38/lib/python3.8/site-packages/sklearn/svm/_base.py:1250: ConvergenceWarning: Liblinear failed to converge, increase the number of iterations.\n",
      "  warnings.warn(\n"
     ]
    },
    {
     "name": "stdout",
     "output_type": "stream",
     "text": [
      "{'C': 2.0, 'fit_intercept': True, 'max_iter': 500, 'penalty': 'l1', 'tol': 0.01}\n"
     ]
    },
    {
     "name": "stderr",
     "output_type": "stream",
     "text": [
      "The feature_perturbation option is now deprecated in favor of using the appropriate masker (maskers.Independent, or maskers.Impute)\n"
     ]
    },
    {
     "data": {
      "application/vnd.jupyter.widget-view+json": {
       "model_id": "5194148dd5f2489fbe0fb43e4a77c9e3",
       "version_major": 2,
       "version_minor": 0
      },
      "text/plain": [
       "Estimating transforms:   0%|          | 0/1000 [00:00<?, ?it/s]"
      ]
     },
     "metadata": {},
     "output_type": "display_data"
    },
    {
     "name": "stdout",
     "output_type": "stream",
     "text": [
      "{'subsample': 0.8, 'n_estimators': 1000, 'min_child_weight': 1, 'max_depth': 4, 'gamma': 0.5, 'colsample_bytree': 1.0}\n",
      "{'bootstrap': False, 'max_depth': None, 'min_samples_leaf': 5, 'min_samples_split': 10, 'n_estimators': 500}\n",
      "LR, XGBoost, RF:  [0.84529641 0.83781677 0.86950885]\n"
     ]
    },
    {
     "name": "stderr",
     "output_type": "stream",
     "text": [
      "/home/dliu/miniconda3/envs/py38/lib/python3.8/site-packages/sklearn/svm/_base.py:1250: ConvergenceWarning: Liblinear failed to converge, increase the number of iterations.\n",
      "  warnings.warn(\n",
      "/home/dliu/miniconda3/envs/py38/lib/python3.8/site-packages/sklearn/svm/_base.py:1250: ConvergenceWarning: Liblinear failed to converge, increase the number of iterations.\n",
      "  warnings.warn(\n",
      "/home/dliu/miniconda3/envs/py38/lib/python3.8/site-packages/sklearn/svm/_base.py:1250: ConvergenceWarning: Liblinear failed to converge, increase the number of iterations.\n",
      "  warnings.warn(\n",
      "/home/dliu/miniconda3/envs/py38/lib/python3.8/site-packages/sklearn/svm/_base.py:1250: ConvergenceWarning: Liblinear failed to converge, increase the number of iterations.\n",
      "  warnings.warn(\n",
      "/home/dliu/miniconda3/envs/py38/lib/python3.8/site-packages/sklearn/svm/_base.py:1250: ConvergenceWarning: Liblinear failed to converge, increase the number of iterations.\n",
      "  warnings.warn(\n"
     ]
    },
    {
     "name": "stdout",
     "output_type": "stream",
     "text": [
      "{'C': 2.0, 'fit_intercept': True, 'max_iter': 50, 'penalty': 'l2', 'tol': 0.001}\n"
     ]
    },
    {
     "name": "stderr",
     "output_type": "stream",
     "text": [
      "The feature_perturbation option is now deprecated in favor of using the appropriate masker (maskers.Independent, or maskers.Impute)\n"
     ]
    },
    {
     "data": {
      "application/vnd.jupyter.widget-view+json": {
       "model_id": "ba9418afd4fb4ebb8074e5092c4b35a4",
       "version_major": 2,
       "version_minor": 0
      },
      "text/plain": [
       "Estimating transforms:   0%|          | 0/1000 [00:00<?, ?it/s]"
      ]
     },
     "metadata": {},
     "output_type": "display_data"
    },
    {
     "name": "stdout",
     "output_type": "stream",
     "text": [
      "{'subsample': 0.8, 'n_estimators': 1000, 'min_child_weight': 1, 'max_depth': 4, 'gamma': 0.5, 'colsample_bytree': 1.0}\n",
      "{'bootstrap': True, 'max_depth': None, 'min_samples_leaf': 5, 'min_samples_split': 5, 'n_estimators': 200}\n",
      "LR, XGBoost, RF:  [0.85454224 0.85403509 0.87695187]\n"
     ]
    },
    {
     "name": "stderr",
     "output_type": "stream",
     "text": [
      "/home/dliu/miniconda3/envs/py38/lib/python3.8/site-packages/sklearn/svm/_base.py:1250: ConvergenceWarning: Liblinear failed to converge, increase the number of iterations.\n",
      "  warnings.warn(\n",
      "/home/dliu/miniconda3/envs/py38/lib/python3.8/site-packages/sklearn/svm/_base.py:1250: ConvergenceWarning: Liblinear failed to converge, increase the number of iterations.\n",
      "  warnings.warn(\n",
      "/home/dliu/miniconda3/envs/py38/lib/python3.8/site-packages/sklearn/svm/_base.py:1250: ConvergenceWarning: Liblinear failed to converge, increase the number of iterations.\n",
      "  warnings.warn(\n",
      "/home/dliu/miniconda3/envs/py38/lib/python3.8/site-packages/sklearn/svm/_base.py:1250: ConvergenceWarning: Liblinear failed to converge, increase the number of iterations.\n",
      "  warnings.warn(\n",
      "/home/dliu/miniconda3/envs/py38/lib/python3.8/site-packages/sklearn/svm/_base.py:1250: ConvergenceWarning: Liblinear failed to converge, increase the number of iterations.\n",
      "  warnings.warn(\n",
      "/home/dliu/miniconda3/envs/py38/lib/python3.8/site-packages/sklearn/svm/_base.py:1250: ConvergenceWarning: Liblinear failed to converge, increase the number of iterations.\n",
      "  warnings.warn(\n"
     ]
    },
    {
     "name": "stdout",
     "output_type": "stream",
     "text": [
      "{'C': 2.0, 'fit_intercept': True, 'max_iter': 50, 'penalty': 'l2', 'tol': 1e-05}\n"
     ]
    },
    {
     "name": "stderr",
     "output_type": "stream",
     "text": [
      "The feature_perturbation option is now deprecated in favor of using the appropriate masker (maskers.Independent, or maskers.Impute)\n"
     ]
    },
    {
     "data": {
      "application/vnd.jupyter.widget-view+json": {
       "model_id": "2fd7dfc64b034b018af87e72d5a01b94",
       "version_major": 2,
       "version_minor": 0
      },
      "text/plain": [
       "Estimating transforms:   0%|          | 0/1000 [00:00<?, ?it/s]"
      ]
     },
     "metadata": {},
     "output_type": "display_data"
    },
    {
     "name": "stdout",
     "output_type": "stream",
     "text": [
      "{'subsample': 0.8, 'n_estimators': 1000, 'min_child_weight': 1, 'max_depth': 4, 'gamma': 0.5, 'colsample_bytree': 1.0}\n",
      "{'bootstrap': False, 'max_depth': 70, 'min_samples_leaf': 5, 'min_samples_split': 5, 'n_estimators': 200}\n",
      "LR, XGBoost, RF:  [0.83852876 0.83781677 0.86110483]\n"
     ]
    },
    {
     "name": "stderr",
     "output_type": "stream",
     "text": [
      "/home/dliu/miniconda3/envs/py38/lib/python3.8/site-packages/sklearn/svm/_base.py:1250: ConvergenceWarning: Liblinear failed to converge, increase the number of iterations.\n",
      "  warnings.warn(\n",
      "/home/dliu/miniconda3/envs/py38/lib/python3.8/site-packages/sklearn/svm/_base.py:1250: ConvergenceWarning: Liblinear failed to converge, increase the number of iterations.\n",
      "  warnings.warn(\n",
      "/home/dliu/miniconda3/envs/py38/lib/python3.8/site-packages/sklearn/svm/_base.py:1250: ConvergenceWarning: Liblinear failed to converge, increase the number of iterations.\n",
      "  warnings.warn(\n",
      "/home/dliu/miniconda3/envs/py38/lib/python3.8/site-packages/sklearn/svm/_base.py:1250: ConvergenceWarning: Liblinear failed to converge, increase the number of iterations.\n",
      "  warnings.warn(\n",
      "/home/dliu/miniconda3/envs/py38/lib/python3.8/site-packages/sklearn/svm/_base.py:1250: ConvergenceWarning: Liblinear failed to converge, increase the number of iterations.\n",
      "  warnings.warn(\n"
     ]
    },
    {
     "name": "stdout",
     "output_type": "stream",
     "text": [
      "{'C': 0.5, 'fit_intercept': True, 'max_iter': 50, 'penalty': 'l1', 'tol': 1e-05}\n"
     ]
    },
    {
     "name": "stderr",
     "output_type": "stream",
     "text": [
      "Liblinear failed to converge, increase the number of iterations.\n",
      "The feature_perturbation option is now deprecated in favor of using the appropriate masker (maskers.Independent, or maskers.Impute)\n"
     ]
    },
    {
     "data": {
      "application/vnd.jupyter.widget-view+json": {
       "model_id": "784b8d22db854a75a3defb50c82aafc0",
       "version_major": 2,
       "version_minor": 0
      },
      "text/plain": [
       "Estimating transforms:   0%|          | 0/1000 [00:00<?, ?it/s]"
      ]
     },
     "metadata": {},
     "output_type": "display_data"
    },
    {
     "name": "stdout",
     "output_type": "stream",
     "text": [
      "{'subsample': 0.8, 'n_estimators': 1000, 'min_child_weight': 1, 'max_depth': 4, 'gamma': 0.5, 'colsample_bytree': 1.0}\n",
      "{'bootstrap': True, 'max_depth': None, 'min_samples_leaf': 5, 'min_samples_split': 5, 'n_estimators': 200}\n",
      "LR, XGBoost, RF:  [0.84573821 0.85319746 0.88582025]\n"
     ]
    },
    {
     "name": "stderr",
     "output_type": "stream",
     "text": [
      "/home/dliu/miniconda3/envs/py38/lib/python3.8/site-packages/sklearn/svm/_base.py:1250: ConvergenceWarning: Liblinear failed to converge, increase the number of iterations.\n",
      "  warnings.warn(\n",
      "/home/dliu/miniconda3/envs/py38/lib/python3.8/site-packages/sklearn/svm/_base.py:1250: ConvergenceWarning: Liblinear failed to converge, increase the number of iterations.\n",
      "  warnings.warn(\n",
      "/home/dliu/miniconda3/envs/py38/lib/python3.8/site-packages/sklearn/svm/_base.py:1250: ConvergenceWarning: Liblinear failed to converge, increase the number of iterations.\n",
      "  warnings.warn(\n",
      "/home/dliu/miniconda3/envs/py38/lib/python3.8/site-packages/sklearn/svm/_base.py:1250: ConvergenceWarning: Liblinear failed to converge, increase the number of iterations.\n",
      "  warnings.warn(\n",
      "/home/dliu/miniconda3/envs/py38/lib/python3.8/site-packages/sklearn/svm/_base.py:1250: ConvergenceWarning: Liblinear failed to converge, increase the number of iterations.\n",
      "  warnings.warn(\n",
      "/home/dliu/miniconda3/envs/py38/lib/python3.8/site-packages/sklearn/svm/_base.py:1250: ConvergenceWarning: Liblinear failed to converge, increase the number of iterations.\n",
      "  warnings.warn(\n",
      "/home/dliu/miniconda3/envs/py38/lib/python3.8/site-packages/sklearn/svm/_base.py:1250: ConvergenceWarning: Liblinear failed to converge, increase the number of iterations.\n",
      "  warnings.warn(\n",
      "/home/dliu/miniconda3/envs/py38/lib/python3.8/site-packages/sklearn/svm/_base.py:1250: ConvergenceWarning: Liblinear failed to converge, increase the number of iterations.\n",
      "  warnings.warn(\n",
      "/home/dliu/miniconda3/envs/py38/lib/python3.8/site-packages/sklearn/svm/_base.py:1250: ConvergenceWarning: Liblinear failed to converge, increase the number of iterations.\n",
      "  warnings.warn(\n",
      "/home/dliu/miniconda3/envs/py38/lib/python3.8/site-packages/sklearn/svm/_base.py:1250: ConvergenceWarning: Liblinear failed to converge, increase the number of iterations.\n",
      "  warnings.warn(\n"
     ]
    },
    {
     "name": "stdout",
     "output_type": "stream",
     "text": [
      "{'C': 1.0, 'fit_intercept': True, 'max_iter': 250, 'penalty': 'l1', 'tol': 0.01}\n"
     ]
    },
    {
     "name": "stderr",
     "output_type": "stream",
     "text": [
      "The feature_perturbation option is now deprecated in favor of using the appropriate masker (maskers.Independent, or maskers.Impute)\n"
     ]
    },
    {
     "data": {
      "application/vnd.jupyter.widget-view+json": {
       "model_id": "44b4a1514c73409bbfb9e1a017c58b4b",
       "version_major": 2,
       "version_minor": 0
      },
      "text/plain": [
       "Estimating transforms:   0%|          | 0/1000 [00:00<?, ?it/s]"
      ]
     },
     "metadata": {},
     "output_type": "display_data"
    },
    {
     "name": "stdout",
     "output_type": "stream",
     "text": [
      "{'subsample': 1.0, 'n_estimators': 100, 'min_child_weight': 5, 'max_depth': 4, 'gamma': 0.5, 'colsample_bytree': 1.0}\n",
      "{'bootstrap': True, 'max_depth': None, 'min_samples_leaf': 5, 'min_samples_split': 10, 'n_estimators': 500}\n",
      "LR, XGBoost, RF:  [0.86197629 0.87025342 0.86197629]\n"
     ]
    },
    {
     "name": "stderr",
     "output_type": "stream",
     "text": [
      "/home/dliu/miniconda3/envs/py38/lib/python3.8/site-packages/sklearn/svm/_base.py:1250: ConvergenceWarning: Liblinear failed to converge, increase the number of iterations.\n",
      "  warnings.warn(\n",
      "/home/dliu/miniconda3/envs/py38/lib/python3.8/site-packages/sklearn/svm/_base.py:1250: ConvergenceWarning: Liblinear failed to converge, increase the number of iterations.\n",
      "  warnings.warn(\n",
      "/home/dliu/miniconda3/envs/py38/lib/python3.8/site-packages/sklearn/svm/_base.py:1250: ConvergenceWarning: Liblinear failed to converge, increase the number of iterations.\n",
      "  warnings.warn(\n",
      "/home/dliu/miniconda3/envs/py38/lib/python3.8/site-packages/sklearn/svm/_base.py:1250: ConvergenceWarning: Liblinear failed to converge, increase the number of iterations.\n",
      "  warnings.warn(\n",
      "/home/dliu/miniconda3/envs/py38/lib/python3.8/site-packages/sklearn/svm/_base.py:1250: ConvergenceWarning: Liblinear failed to converge, increase the number of iterations.\n",
      "  warnings.warn(\n",
      "/home/dliu/miniconda3/envs/py38/lib/python3.8/site-packages/sklearn/svm/_base.py:1250: ConvergenceWarning: Liblinear failed to converge, increase the number of iterations.\n",
      "  warnings.warn(\n",
      "/home/dliu/miniconda3/envs/py38/lib/python3.8/site-packages/sklearn/svm/_base.py:1250: ConvergenceWarning: Liblinear failed to converge, increase the number of iterations.\n",
      "  warnings.warn(\n",
      "/home/dliu/miniconda3/envs/py38/lib/python3.8/site-packages/sklearn/svm/_base.py:1250: ConvergenceWarning: Liblinear failed to converge, increase the number of iterations.\n",
      "  warnings.warn(\n"
     ]
    },
    {
     "name": "stdout",
     "output_type": "stream",
     "text": [
      "{'C': 2.0, 'fit_intercept': True, 'max_iter': 50, 'penalty': 'l1', 'tol': 0.01}\n"
     ]
    },
    {
     "name": "stderr",
     "output_type": "stream",
     "text": [
      "The feature_perturbation option is now deprecated in favor of using the appropriate masker (maskers.Independent, or maskers.Impute)\n"
     ]
    },
    {
     "data": {
      "application/vnd.jupyter.widget-view+json": {
       "model_id": "31d2117849304bb1a995452c9cfe3f47",
       "version_major": 2,
       "version_minor": 0
      },
      "text/plain": [
       "Estimating transforms:   0%|          | 0/1000 [00:00<?, ?it/s]"
      ]
     },
     "metadata": {},
     "output_type": "display_data"
    },
    {
     "name": "stdout",
     "output_type": "stream",
     "text": [
      "{'subsample': 1.0, 'n_estimators': 100, 'min_child_weight': 5, 'max_depth': 4, 'gamma': 0.5, 'colsample_bytree': 1.0}\n",
      "{'bootstrap': True, 'max_depth': None, 'min_samples_leaf': 5, 'min_samples_split': 5, 'n_estimators': 200}\n",
      "LR, XGBoost, RF:  [0.87786558 0.87025342 0.86197629]\n"
     ]
    }
   ],
   "source": [
    "F1_kPa, idx_kPa = [], []\n",
    "for kPa in kPa_list:\n",
    "# for kPa in ['22kPa']:\n",
    "    df_ = df[df['kPa']==kPa]\n",
    "    X_train, y_train, X_test, y_test, X, features = get_data(df_)\n",
    "    F1_list, idx_list = feature_extraction(X_train, y_train, X_test, y_test, X)\n",
    "    \n",
    "    F1_kPa.append(F1_list)\n",
    "    idx_kPa.append(idx_list)"
   ]
  },
  {
   "cell_type": "code",
   "execution_count": 1,
   "metadata": {},
   "outputs": [],
   "source": [
    "import pickle\n",
    "\n",
    "# with open('F1_kPa', 'wb') as file:\n",
    "#     pickle.dump(F1_kPa, file)\n",
    "\n",
    "# with open('idx_kPa', 'wb') as file:\n",
    "#     pickle.dump(idx_kPa, file)\n",
    "\n",
    "\n",
    "\n",
    "with open('F1_kPa', 'rb') as file:\n",
    "    F1_kPa = pickle.load(file)\n",
    "\n",
    "with open('idx_kPa', 'rb') as file:\n",
    "    idx_kPa = pickle.load(file)"
   ]
  },
  {
   "cell_type": "code",
   "execution_count": 3,
   "metadata": {},
   "outputs": [
    {
     "data": {
      "text/plain": [
       "array(['1kPa', '4kPa', '6kPa', '22kPa', '60kPa', '0.5kPa'], dtype=object)"
      ]
     },
     "execution_count": 3,
     "metadata": {},
     "output_type": "execute_result"
    }
   ],
   "source": [
    "kPa_list = df['kPa'].unique()\n",
    "\n",
    "kPa_list"
   ]
  },
  {
   "cell_type": "code",
   "execution_count": 4,
   "metadata": {},
   "outputs": [
    {
     "name": "stdout",
     "output_type": "stream",
     "text": [
      "1kPa mean f1 score: 0.79, F1 score: [0.63151098 0.86318792 0.87179487]\n",
      "selected idx: [  2  10  11   1  13   7  36   9   4   8  43  14  91 122  82   3  65  38\n",
      "  32  92 132  37  19  90  51 147 110 135  39  28  94  58  63   0  40  56\n",
      "  74 148  12  49  85 119  22  15 131  95  68  29  99 106 130  62 142  84\n",
      " 116 128  25  47 124 137 141  54  23  46 101  67  79  53  72  16 127   5\n",
      "  60 115  24 121  61  69  26  30 126]\n",
      "1kPa mean f1 score: 0.76, F1 score: [0.57277446 0.84608641 0.86318792]\n",
      "selected idx: [  2  10  11   1  13   9  36   7   4 122   3  51  91  82  38  92  65  37\n",
      " 132 110  39 130  94  15 135  49 131  22  90  63  12 119  56  47 124  99\n",
      "  62 116  95 106  79  25  53  16]\n",
      "1kPa mean f1 score: 0.76, F1 score: [0.57189984 0.84608641 0.85476456]\n",
      "selected idx: [  2  10  11   1  13  36   9   4   7  91  15  37  51   3 132  38  82  92\n",
      "  94 122  65 110  39 130  49  47]\n",
      "1kPa mean f1 score: 0.74, F1 score: [0.54714107 0.84608641 0.83744071]\n",
      "selected idx: [  2  10  11   1   4  36   9  13  91  92  15  37  51   3  82 122  38]\n",
      "1kPa mean f1 score: 0.75, F1 score: [0.53846154 0.86328783 0.84608641]\n",
      "selected idx: [ 2 10 11  1 36  4  9 13 37 82 91 15 51]\n",
      "1kPa mean f1 score: 0.74, F1 score: [0.54621062 0.85476456 0.8289849 ]\n",
      "selected idx: [ 2 10 11  1 36 13  9  4 82 91 15]\n",
      "1kPa mean f1 score: 0.72, F1 score: [0.52157745 0.8203292  0.8289849 ]\n",
      "selected idx: [ 2 10 11  1 36  4  9 13 82]\n",
      "1kPa mean f1 score: 0.74, F1 score: [0.52991453 0.84608641 0.8461988 ]\n",
      "selected idx: [ 2 10 11  1 13 36  4]\n",
      "1kPa mean f1 score: 0.75, F1 score: [0.54654513 0.85470085 0.8461988 ]\n",
      "selected idx: [ 2  1 11 10 13]\n",
      "1kPa mean f1 score: 0.69, F1 score: [0.36697014 0.87166372 0.83760684]\n",
      "selected idx: [ 2  1 11]\n"
     ]
    }
   ],
   "source": [
    "i = 0\n",
    "F1_list, idx_list = F1_kPa[i], idx_kPa[i]\n",
    "for F1, idx_ordered in zip(F1_list[1:], idx_list[1:]):\n",
    "    print(f'{kPa_list[i]} mean f1 score: {F1.mean():.2f}, F1 score: {F1}')\n",
    "    print(f'selected idx: {idx_ordered}')"
   ]
  },
  {
   "cell_type": "code",
   "execution_count": 5,
   "metadata": {},
   "outputs": [
    {
     "name": "stdout",
     "output_type": "stream",
     "text": [
      "4kPa mean f1 score: 0.83, F1 score: [0.77534578 0.86895171 0.84070152]\n",
      "selected idx: [  1   9  86   2  10   7 106  20 113  11   8  68  28  33  87  43  82 141\n",
      " 105 148   4 118   0  14 117 134 142  94  24  52  91 100 131  58  84 128\n",
      "  98 111  90 140  35  92  59  57 122   3  83  74 119  93 107  97  51 120\n",
      " 116  60 137 103  47  95  44  12  56  67 130 108  69 136  48  99   5 115\n",
      "  22  78 114 129  70  26  53 109  73]\n",
      "4kPa mean f1 score: 0.83, F1 score: [0.79406697 0.87818351 0.83150934]\n",
      "selected idx: [  1   9  86   2  10 106  20   7  11 113   8  68  28  33  43  82 141 148\n",
      " 105 117  87 142 134  14 118  91  24  94  52  90 128 116  58 107  59  60\n",
      " 119  67 103  95  98  57  22  47]\n",
      "4kPa mean f1 score: 0.82, F1 score: [0.74699652 0.85944251 0.85906906]\n",
      "selected idx: [  1.   9.  86.   2.  20. 106. 113.  10.   7.  33.  68.  87. 134.  11.\n",
      "   8. 142.  43.  94. 118. 117.  91.  24.  58.  60. 107. 119.]\n",
      "4kPa mean f1 score: 0.84, F1 score: [0.73650825 0.88707497 0.89630097]\n",
      "selected idx: [  1.   9. 106.  10.   2.  20. 113.   7.  86.  33. 134.  68.  87.  11.\n",
      "  43.   8. 142.]\n",
      "4kPa mean f1 score: 0.85, F1 score: [0.73650825 0.92494324 0.89692451]\n",
      "selected idx: [  1. 106.  20.   9.   2.   7. 113.  10.  86. 134.  33.   8.  68.]\n",
      "4kPa mean f1 score: 0.85, F1 score: [0.73650825 0.92494324 0.89665064]\n",
      "selected idx: [  1.   9. 106.  20.  10.   7.   2. 113. 134.  33.  86.]\n",
      "4kPa mean f1 score: 0.87, F1 score: [0.76432038 0.92471664 0.91544143]\n",
      "selected idx: [  1.   9. 106.  20.   2.   7.  10. 113. 134.]\n",
      "4kPa mean f1 score: 0.83, F1 score: [0.68004573 0.89630097 0.90617905]\n",
      "selected idx: [  1.   7.   9. 106.  10.   2.  20.]\n",
      "4kPa mean f1 score: 0.80, F1 score: [0.71386091 0.85971458 0.84120502]\n",
      "selected idx: [  1.   9. 106.  10.   7.]\n",
      "4kPa mean f1 score: 0.82, F1 score: [0.71535524 0.87818351 0.86915888]\n",
      "selected idx: [  9.   1. 106.]\n"
     ]
    }
   ],
   "source": [
    "i = 1\n",
    "F1_list, idx_list = F1_kPa[i], idx_kPa[i]\n",
    "for F1, idx_ordered in zip(F1_list[1:], idx_list[1:]):\n",
    "    print(f'{kPa_list[i]} mean f1 score: {F1.mean():.2f}, F1 score: {F1}')\n",
    "    print(f'selected idx: {idx_ordered}')"
   ]
  },
  {
   "cell_type": "code",
   "execution_count": 35,
   "metadata": {},
   "outputs": [
    {
     "name": "stdout",
     "output_type": "stream",
     "text": [
      "6kPa mean f1 score: 0.91, F1 score: [0.92917025 0.92917025 0.8848475 ]\n",
      "selected idx: [148   1   3   9   7  14  41   8   2  90 105  56  13 113  20  10 141 142\n",
      "  12  19  11 122 106  97   0 131 135  84  87  86  98 140  82  43 147 107\n",
      "  93  38  94  91  33 111  63 128  22 123 118 133  95   4]\n",
      "6kPa mean f1 score: 0.91, F1 score: [0.92917025 0.92027904 0.87604794]\n",
      "selected idx: [148   1   3   9  41   8  14   7 105  90  13  56   2 113  20   0 141 142\n",
      "  87  12  19  10 122  97  93  84 106  11 147 131  86  82  98  43 135  38\n",
      "  91 123 107 128 140  33   4 118  63 139  22 111   5  95]\n",
      "6kPa mean f1 score: 0.83, F1 score: [0.83183206 0.83170019 0.82273109]\n",
      "selected idx: [  3.  13. 148. 105.  52. 131. 113. 141.  86.  87.  12.  98.  56. 122.\n",
      "  51. 120. 110. 111. 101. 118.  15. 121. 119.  24.  22.  50.]\n",
      "6kPa mean f1 score: 0.84, F1 score: [0.83183206 0.84063306 0.84063306]\n",
      "selected idx: [  3.  86. 148. 105. 131. 113.  13.  52. 141.  56.  87.  12. 122.  15.\n",
      " 120. 110. 111.]\n",
      "6kPa mean f1 score: 0.82, F1 score: [0.80527924 0.83146225 0.82292562]\n",
      "selected idx: [  3. 105. 148. 113. 131.  13.  86.  52. 141.  56.  87. 122.  12.]\n",
      "6kPa mean f1 score: 0.83, F1 score: [0.83183206 0.82273109 0.83183206]\n",
      "selected idx: [  3.  13. 148. 105. 131. 113. 141.  86.  56.  52. 122.]\n",
      "6kPa mean f1 score: 0.84, F1 score: [0.83183206 0.84889441 0.84941596]\n",
      "selected idx: [  3. 113. 148. 105.  13. 131.  86.  56. 141.]\n",
      "6kPa mean f1 score: 0.82, F1 score: [0.81407194 0.82273109 0.81398442]\n",
      "selected idx: [  3. 113. 148. 131. 105.  86.  56.]\n",
      "6kPa mean f1 score: 0.84, F1 score: [0.80527924 0.86667154 0.84045798]\n",
      "selected idx: [  3. 113. 148. 105. 131.]\n",
      "6kPa mean f1 score: 0.82, F1 score: [0.78757735 0.85818487 0.82273109]\n",
      "selected idx: [  3. 113. 148.]\n"
     ]
    }
   ],
   "source": [
    "i = 2\n",
    "F1_list, idx_list = F1_kPa[i], idx_kPa[i]\n",
    "for F1, idx_ordered in zip(F1_list[1:], idx_list[1:]):\n",
    "    print(f'{kPa_list[i]} mean f1 score: {F1.mean():.2f}, F1 score: {F1}')\n",
    "    print(f'selected idx: {idx_ordered[:50]}')"
   ]
  },
  {
   "cell_type": "code",
   "execution_count": 30,
   "metadata": {},
   "outputs": [
    {
     "name": "stdout",
     "output_type": "stream",
     "text": [
      "22kPa mean f1 score: 0.86, F1 score: [0.86352859 0.85480778 0.86220691]\n",
      "selected idx: [ 11   1   2  98   4  10   7  43  38  40  50  87  30  57  20  93  33  39\n",
      "   9  62  31  41 129  94  44 127 100  91   3  27  70  34  90  67  37 123\n",
      " 108  55 104  19  36 101 138  86  74  92  46 116 139  65  68  85  48 147\n",
      "  47  35 107 124  32  58  71  66  52  83   6 120  42 134 121  13 119  95\n",
      " 130 111 133  54  99  45 126  49  22]\n",
      "22kPa mean f1 score: 0.86, F1 score: [0.86352859 0.86342875 0.86220691]\n",
      "selected idx: [ 98   1   2  11   7   4  50  38  10  30  43  87  94  41  20  40  57   9\n",
      " 129  93  34  62  33  44 108  70  91 123   3  39  90 100  31 101  37  67\n",
      "  19  36 127  65 138  55 120 139]\n",
      "22kPa mean f1 score: 0.84, F1 score: [0.80382137 0.88058751 0.83710135]\n",
      "selected idx: [ 98   1  11   7  50   2  38   4  30  43  20  94  41  34  40  57 129  33\n",
      "  93 108  44  62  39 100  70 101]\n",
      "22kPa mean f1 score: 0.86, F1 score: [0.82943514 0.88058751 0.86263845]\n",
      "selected idx: [ 98   1  11   2  50  94  38   7   4  20  40  43  30  41 108  34 129]\n",
      "22kPa mean f1 score: 0.85, F1 score: [0.81235181 0.87207658 0.86298488]\n",
      "selected idx: [98  1 11 43  7  2 38 50 30 94  4 20 40]\n",
      "22kPa mean f1 score: 0.85, F1 score: [0.82941073 0.8806046  0.85480778]\n",
      "selected idx: [98  1 11 43 50 38  7  2 30 94  4]\n",
      "22kPa mean f1 score: 0.84, F1 score: [0.82090721 0.8720207  0.8206449 ]\n",
      "selected idx: [98  1 11 38 43  2 94 50  7]\n",
      "22kPa mean f1 score: 0.80, F1 score: [0.81221453 0.79514313 0.8028069 ]\n",
      "selected idx: [98 11 43  2  1 94 50]\n",
      "22kPa mean f1 score: 0.81, F1 score: [0.78670117 0.83772634 0.81944389]\n",
      "selected idx: [98 11  2  1 43]\n",
      "22kPa mean f1 score: 0.79, F1 score: [0.75231915 0.81221453 0.81160421]\n",
      "selected idx: [ 2 11 98]\n"
     ]
    }
   ],
   "source": [
    "i = 3\n",
    "F1_list, idx_list = F1_kPa[i], idx_kPa[i]\n",
    "for F1, idx_ordered in zip(F1_list[1:], idx_list[1:]):\n",
    "    print(f'{kPa_list[i]} mean f1 score: {F1.mean():.2f}, F1 score: {F1}')\n",
    "    print(f'selected idx: {idx_ordered}')"
   ]
  },
  {
   "cell_type": "code",
   "execution_count": 31,
   "metadata": {},
   "outputs": [
    {
     "name": "stdout",
     "output_type": "stream",
     "text": [
      "60kPa mean f1 score: 0.85, F1 score: [0.7897207  0.88372917 0.86366479]\n",
      "selected idx: [  1 105  87 148  84  82   3  98   2   0   9  14   8  37 120  88 101  11\n",
      "  97  20  10 135  93  70  38 130  94 132  31  58  49  64  89  36  90 133\n",
      "  86   7  65 139 107  71 141  50  40  99  12   6 138 112  53   5  57 102\n",
      " 111  13  91  29 137  39 104  61 125  47  67 123 126  81  45  69 108  68\n",
      " 109  18  16 127  48  52  60  62  63]\n",
      "60kPa mean f1 score: 0.87, F1 score: [0.79911533 0.90351623 0.89365412]\n",
      "selected idx: [  1 105  87  98 148   3   0  37   2   8  14   9  97  86  20  11 135  10\n",
      "  94 132  58   7  70  93  65  31 130 139  36 107  38  99  49   6  71 133\n",
      "  50  47  64  53  45 102  69  61]\n",
      "60kPa mean f1 score: 0.88, F1 score: [0.79910609 0.93201112 0.91258573]\n",
      "selected idx: [  1  87  98  11   8  37   2   3  20   9  14 107  97 130  70  86  31   6\n",
      " 132 135  65   7  58  47  10  71]\n",
      "60kPa mean f1 score: 0.87, F1 score: [0.78014017 0.95166096 0.89316033]\n",
      "selected idx: [  1  87  98  11  37  14   2   3   8  20  70   9 135 130  97 107  31]\n",
      "60kPa mean f1 score: 0.87, F1 score: [0.77965624 0.94210974 0.89365412]\n",
      "selected idx: [  1  87  98  11   8   2  37  14  20   3   9  70 130]\n",
      "60kPa mean f1 score: 0.86, F1 score: [0.77965624 0.90310765 0.89365412]\n",
      "selected idx: [ 1 87 98 11  8  2 14 37 20  9  3]\n",
      "60kPa mean f1 score: 0.85, F1 score: [0.76085158 0.90310765 0.89316033]\n",
      "selected idx: [ 1 87 98 37  8  2 14 11 20]\n",
      "60kPa mean f1 score: 0.85, F1 score: [0.76085158 0.90351623 0.88372917]\n",
      "selected idx: [ 1 37 87 98  2 14  8]\n",
      "60kPa mean f1 score: 0.84, F1 score: [0.75139978 0.88461538 0.87431851]\n",
      "selected idx: [ 1 37 87 14 98]\n",
      "60kPa mean f1 score: 0.82, F1 score: [0.72278543 0.85498289 0.87431851]\n",
      "selected idx: [ 1 87 14]\n"
     ]
    }
   ],
   "source": [
    "i = 4\n",
    "F1_list, idx_list = F1_kPa[i], idx_kPa[i]\n",
    "for F1, idx_ordered in zip(F1_list[1:], idx_list[1:]):\n",
    "    print(f'{kPa_list[i]} mean f1 score: {F1.mean():.2f}, F1 score: {F1}')\n",
    "    print(f'selected idx: {idx_ordered}')"
   ]
  },
  {
   "cell_type": "code",
   "execution_count": 32,
   "metadata": {},
   "outputs": [
    {
     "name": "stdout",
     "output_type": "stream",
     "text": [
      "0.5kPa mean f1 score: 0.85, F1 score: [0.82159845 0.84476422 0.89378604]\n",
      "selected idx: [ 11  10   2   7   1   9  83   8  64  14  19 138 139  46  86 128  54   0\n",
      " 124   3 122  12  38  95  36 135  60  85 100 125 113  24 130  13  37  39\n",
      " 101 132 136  40 103 106  68  74 126  61 142  65  55 123 127  84  75  59\n",
      "   6  62 112  63  41   5   4 114  22 118 111 133 117 109 121 120  67 141\n",
      "  69  82  70  71 107 119  53  17  15]\n",
      "0.5kPa mean f1 score: 0.85, F1 score: [0.83739837 0.83688607 0.86950885]\n",
      "selected idx: [ 10.  11.   2.   7.   1.   9.  83.   8.  24.  64.  14. 138. 139.  86.\n",
      "   0.  46. 124.  54. 135. 125.  12.  38.   3.  36.  95. 122. 113. 103.\n",
      " 100.  65.  60.  68. 106. 126. 101.  61. 112.  55. 111.  62.  84.  63.\n",
      "  59. 123.]\n",
      "0.5kPa mean f1 score: 0.85, F1 score: [0.83739837 0.82901182 0.87744543]\n",
      "selected idx: [ 11.  10.   2.   9.   1.   7.   8.  64.  86.  24.  83.  14. 124. 138.\n",
      " 139.   0. 100.  46.  60.  36.  54. 113. 122.  38. 125.  68.]\n",
      "0.5kPa mean f1 score: 0.84, F1 score: [0.82989102 0.85319746 0.84529641]\n",
      "selected idx: [ 10.  11.   2.   8.   1.   7.  24.   9.  14.  54. 100.  86.  83.   0.\n",
      "  46.  64.  36.]\n",
      "0.5kPa mean f1 score: 0.85, F1 score: [0.84529641 0.83781677 0.86950885]\n",
      "selected idx: [ 10.  11.   2.   9.   7.   8.   1.  54.  24.  83.  14.   0. 100.]\n",
      "0.5kPa mean f1 score: 0.86, F1 score: [0.85454224 0.85403509 0.87695187]\n",
      "selected idx: [10.  2. 11. 24.  7.  1.  9.  8.  0. 14. 54.]\n",
      "0.5kPa mean f1 score: 0.85, F1 score: [0.83852876 0.83781677 0.86110483]\n",
      "selected idx: [10.  2. 11. 24.  7.  9.  1.  8.  0.]\n",
      "0.5kPa mean f1 score: 0.86, F1 score: [0.84573821 0.85319746 0.88582025]\n",
      "selected idx: [11.  2. 10.  7.  9.  8.  1.]\n",
      "0.5kPa mean f1 score: 0.86, F1 score: [0.86197629 0.87025342 0.86197629]\n",
      "selected idx: [10. 11.  2.  9.  7.]\n",
      "0.5kPa mean f1 score: 0.87, F1 score: [0.87786558 0.87025342 0.86197629]\n",
      "selected idx: [10. 11.  2.]\n"
     ]
    }
   ],
   "source": [
    "i = 5\n",
    "F1_list, idx_list = F1_kPa[i], idx_kPa[i]\n",
    "for F1, idx_ordered in zip(F1_list[1:], idx_list[1:]):\n",
    "    print(f'{kPa_list[i]} mean f1 score: {F1.mean():.2f}, F1 score: {F1}')\n",
    "    print(f'selected idx: {idx_ordered}')"
   ]
  },
  {
   "cell_type": "code",
   "execution_count": 15,
   "metadata": {},
   "outputs": [
    {
     "name": "stdout",
     "output_type": "stream",
     "text": [
      "[[  1   2   4   9  10  11  13  15  36  37  51  82  91]\n",
      " [  1   2   7   8   9  10  20  33  68  86 106 113 134]\n",
      " [  3  12  13  52  56  86  87 105 113 122 131 141 148]\n",
      " [  1   2   4   7  11  20  30  38  40  43  50  94  98]\n",
      " [  1   2   3   8   9  11  14  20  37  70  87  98 130]\n",
      " [  0   1   2   7   8   9  10  11  14  24  54  83 100]]\n",
      "[[  1   2   4   9  10  11  13  15  36  82  91]\n",
      " [  1   2   7   9  10  20  33  86 106 113 134]\n",
      " [  3  13  52  56  86 105 113 122 131 141 148]\n",
      " [  1   2   4   7  11  30  38  43  50  94  98]\n",
      " [  1   2   3   8   9  11  14  20  37  87  98]\n",
      " [  0   1   2   7   8   9  10  11  14  24  54]]\n"
     ]
    }
   ],
   "source": [
    "idx_26 = np.array(np.r_[[idx_[-8] for idx_ in idx_kPa]], dtype=int)\n",
    "idx_17 = np.array(np.r_[[idx_[-7] for idx_ in idx_kPa]], dtype=int)\n",
    "idx_13 = np.array(np.r_[[idx_[-6] for idx_ in idx_kPa]], dtype=int)\n",
    "idx_11 = np.array(np.r_[[idx_[-5] for idx_ in idx_kPa]], dtype=int)\n",
    "idx_9 = np.array(np.r_[[idx_[-4] for idx_ in idx_kPa]], dtype=int)\n",
    "idx_7 = np.array(np.r_[[idx_[-3] for idx_ in idx_kPa]], dtype=int)\n",
    "idx_5 = np.array(np.r_[[idx_[-2] for idx_ in idx_kPa]], dtype=int)\n",
    "idx_3 = np.array(np.r_[[idx_[-1] for idx_ in idx_kPa]], dtype=int)\n",
    "\n",
    "print(np.sort(idx_13,axis=1))\n",
    "print(np.sort(idx_11,axis=1))\n"
   ]
  },
  {
   "cell_type": "code",
   "execution_count": 17,
   "metadata": {},
   "outputs": [
    {
     "name": "stdout",
     "output_type": "stream",
     "text": [
      "[[  1   2   4   9  10  11  13  36  82]\n",
      " [  1   2   7   9  10  20 106 113 134]\n",
      " [  3  13  56  86 105 113 131 141 148]\n",
      " [  1   2   7  11  38  43  50  94  98]\n",
      " [  1   2   8  11  14  20  37  87  98]\n",
      " [  0   1   2   7   8   9  10  11  24]]\n",
      "[[  1   2   4  10  11  13  36]\n",
      " [  1   2   7   9  10  20 106]\n",
      " [  3  56  86 105 113 131 148]\n",
      " [  1   2  11  43  50  94  98]\n",
      " [  1   2   8  14  37  87  98]\n",
      " [  1   2   7   8   9  10  11]]\n",
      "[[  1   2  10  11  13]\n",
      " [  1   7   9  10 106]\n",
      " [  3 105 113 131 148]\n",
      " [  1   2  11  43  98]\n",
      " [  1  14  37  87  98]\n",
      " [  2   7   9  10  11]]\n"
     ]
    }
   ],
   "source": [
    "print(np.sort(idx_9,axis=1))\n",
    "print(np.sort(idx_7,axis=1))\n",
    "print(np.sort(idx_5,axis=1))"
   ]
  },
  {
   "cell_type": "code",
   "execution_count": 18,
   "metadata": {},
   "outputs": [],
   "source": [
    "df_ = df[df['kPa']==kPa_list[0]]\n",
    "X_train, y_train, X_test, y_test, X, features = get_data(df_)"
   ]
  },
  {
   "cell_type": "code",
   "execution_count": 19,
   "metadata": {},
   "outputs": [
    {
     "data": {
      "text/plain": [
       "(array([ 1,  2, 11]),\n",
       " array(['ind_1_Intensity_IntegratedIntensity_YAP',\n",
       "        'ind_2_Intensity_LowerQuartileIntensity_YAP',\n",
       "        'ind_11_Intensity_MinIntensity_YAP'], dtype=object))"
      ]
     },
     "execution_count": 19,
     "metadata": {},
     "output_type": "execute_result"
    }
   ],
   "source": [
    "unique_13, count_13 = np.unique(idx_17, return_counts=True)\n",
    "unique_13[count_13>4], features[unique_13[count_13>4]]"
   ]
  },
  {
   "cell_type": "code",
   "execution_count": null,
   "metadata": {},
   "outputs": [],
   "source": []
  },
  {
   "cell_type": "code",
   "execution_count": 14,
   "metadata": {},
   "outputs": [
    {
     "data": {
      "image/png": "[encoded data removed]",
      "text/plain": [
       "<Figure size 1000x1000 with 2 Axes>"
      ]
     },
     "metadata": {},
     "output_type": "display_data"
    }
   ],
   "source": [
    "ii = 1\n",
    "kPa_list = df['kPa'].unique()\n",
    "\n",
    "df_ = df[df['kPa']==kPa_list[ii]]\n",
    "X_train, y_train, X_test, y_test, X, features = get_data(df_)\n",
    "\n",
    "selected = X.iloc[:, idx_13[ii]]\n",
    "# selected = X.iloc[:, idx_11[ii]]\n",
    "# selected = X.iloc[:, idx_9[ii]]\n",
    "# selected = X.iloc[:, idx_7[ii]]\n",
    "# selected = X.iloc[:, idx_5[ii]]\n",
    "\n",
    "corr_values = selected.corr().values\n",
    "d = sch.distance.pdist(corr_values)   # vector of ('55' choose 2) pairwise distances\n",
    "L = sch.linkage(d, method='complete')\n",
    "ind = sch.fcluster(L, 0.5*d.max(), 'distance')\n",
    "columns = [selected.columns.tolist()[i] for i in list((np.argsort(ind)))]\n",
    "selected_sorted = selected.reindex(columns, axis=1)\n",
    "\n",
    "selected_columns_new = dict([(name, f'group{i}_'+name) for i,name in zip(np.sort(ind),selected_sorted.columns)])\n",
    "selected_sorted.rename(columns=selected_columns_new, inplace=True)\n",
    "\n",
    "plot_corr(selected_sorted)"
   ]
  },
  {
   "cell_type": "code",
   "execution_count": null,
   "metadata": {},
   "outputs": [],
   "source": []
  }
 ],
 "metadata": {
  "kernelspec": {
   "display_name": "py38",
   "language": "python",
   "name": "python3"
  },
  "language_info": {
   "codemirror_mode": {
    "name": "ipython",
    "version": 3
   },
   "file_extension": ".py",
   "mimetype": "text/x-python",
   "name": "python",
   "nbconvert_exporter": "python",
   "pygments_lexer": "ipython3",
   "version": "3.8.5"
  }
 },
 "nbformat": 4,
 "nbformat_minor": 2
}
